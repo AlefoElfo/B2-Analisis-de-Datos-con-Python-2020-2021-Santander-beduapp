{
 "cells": [
  {
   "cell_type": "markdown",
   "metadata": {},
   "source": [
    "## Ejemplo 6: Mapas Cloropléticos\n",
    "\n",
    "### 1. Objetivos:\n",
    "- Aprender a generar e interpretar mapas cloropléticos\n",
    " \n",
    "---\n",
    "    \n",
    "### 2. Desarrollo:"
   ]
  },
  {
   "cell_type": "markdown",
   "metadata": {},
   "source": [
    "Para generar un mapa cloroplético necesitamos dos fuentes de datos:\n",
    "\n",
    "1. La primera es un archivo que contenga datos en un formato llamado GeoJSON. El formato GeoJSON utiliza el formato JSON para representar características geográficas de una manera que pueda ser interpretada por una computadora. Un archivo GeoJSON puede incluir puntos en un mapa, regiones geográficas, anotaciones, nombres de regiones, etc. Este archivo nos sirve para poder colocar objetos sobre un mapa.\n",
    "\n",
    "2. La segunda es nuestro dataset. Este dataset es como cualquier otro que hemos utilizando anteriormente. Lo único importante es que tenemos que asegurarnos de que haya una manera de relacionar nuestro dataset con nuestro archivo GeoJSON. Esto se hace de una manera similar a como funcionan los joins de SQL. Relacionando una columna de nuestro dataset con una llave de nuestro GeoJSON podemos entonces indicarle a nuestro programa cómo dibujar cosas sobre un mapa.\n",
    "\n",
    "Una de las librerías que podemos utilizar para dibujar mapas se llama `folium`. Se utiliza de la siguiente manera:"
   ]
  },
  {
   "cell_type": "code",
   "execution_count": 3,
   "metadata": {},
   "outputs": [],
   "source": [
    "import pandas as pd\n",
    "import folium"
   ]
  },
  {
   "cell_type": "code",
   "execution_count": 4,
   "metadata": {
    "scrolled": true
   },
   "outputs": [
    {
     "data": {
      "text/html": [
       "<div>\n",
       "<style scoped>\n",
       "    .dataframe tbody tr th:only-of-type {\n",
       "        vertical-align: middle;\n",
       "    }\n",
       "\n",
       "    .dataframe tbody tr th {\n",
       "        vertical-align: top;\n",
       "    }\n",
       "\n",
       "    .dataframe thead th {\n",
       "        text-align: right;\n",
       "    }\n",
       "</style>\n",
       "<table border=\"1\" class=\"dataframe\">\n",
       "  <thead>\n",
       "    <tr style=\"text-align: right;\">\n",
       "      <th></th>\n",
       "      <th>type</th>\n",
       "      <th>features</th>\n",
       "    </tr>\n",
       "  </thead>\n",
       "  <tbody>\n",
       "    <tr>\n",
       "      <th>0</th>\n",
       "      <td>FeatureCollection</td>\n",
       "      <td>{'type': 'Feature', 'id': 'AL', 'properties': ...</td>\n",
       "    </tr>\n",
       "    <tr>\n",
       "      <th>1</th>\n",
       "      <td>FeatureCollection</td>\n",
       "      <td>{'type': 'Feature', 'id': 'AK', 'properties': ...</td>\n",
       "    </tr>\n",
       "    <tr>\n",
       "      <th>2</th>\n",
       "      <td>FeatureCollection</td>\n",
       "      <td>{'type': 'Feature', 'id': 'AZ', 'properties': ...</td>\n",
       "    </tr>\n",
       "    <tr>\n",
       "      <th>3</th>\n",
       "      <td>FeatureCollection</td>\n",
       "      <td>{'type': 'Feature', 'id': 'AR', 'properties': ...</td>\n",
       "    </tr>\n",
       "    <tr>\n",
       "      <th>4</th>\n",
       "      <td>FeatureCollection</td>\n",
       "      <td>{'type': 'Feature', 'id': 'CA', 'properties': ...</td>\n",
       "    </tr>\n",
       "  </tbody>\n",
       "</table>\n",
       "</div>"
      ],
      "text/plain": [
       "                type                                           features\n",
       "0  FeatureCollection  {'type': 'Feature', 'id': 'AL', 'properties': ...\n",
       "1  FeatureCollection  {'type': 'Feature', 'id': 'AK', 'properties': ...\n",
       "2  FeatureCollection  {'type': 'Feature', 'id': 'AZ', 'properties': ...\n",
       "3  FeatureCollection  {'type': 'Feature', 'id': 'AR', 'properties': ...\n",
       "4  FeatureCollection  {'type': 'Feature', 'id': 'CA', 'properties': ..."
      ]
     },
     "execution_count": 4,
     "metadata": {},
     "output_type": "execute_result"
    }
   ],
   "source": [
    "df = pd.read_json('https://raw.githubusercontent.com/jaeem006/beduadp/master/Datasets/us_states.json')\n",
    "df.head()"
   ]
  },
  {
   "cell_type": "code",
   "execution_count": 5,
   "metadata": {},
   "outputs": [
    {
     "data": {
      "text/plain": [
       "{'type': 'Feature',\n",
       " 'id': 'AL',\n",
       " 'properties': {'name': 'Alabama'},\n",
       " 'geometry': {'type': 'Polygon',\n",
       "  'coordinates': [[[-87.359296, 35.00118],\n",
       "    [-85.606675, 34.984749],\n",
       "    [-85.431413, 34.124869],\n",
       "    [-85.184951, 32.859696],\n",
       "    [-85.069935, 32.580372],\n",
       "    [-84.960397, 32.421541],\n",
       "    [-85.004212, 32.322956],\n",
       "    [-84.889196, 32.262709],\n",
       "    [-85.058981, 32.13674],\n",
       "    [-85.053504, 32.01077],\n",
       "    [-85.141136, 31.840985],\n",
       "    [-85.042551, 31.539753],\n",
       "    [-85.113751, 31.27686],\n",
       "    [-85.004212, 31.003013],\n",
       "    [-85.497137, 30.997536],\n",
       "    [-87.60028199999999, 30.997536],\n",
       "    [-87.633143, 30.86609],\n",
       "    [-87.408589, 30.674397],\n",
       "    [-87.446927, 30.510088],\n",
       "    [-87.37025, 30.427934],\n",
       "    [-87.518128, 30.280057],\n",
       "    [-87.655051, 30.247195],\n",
       "    [-87.90699, 30.411504],\n",
       "    [-87.934375, 30.657966],\n",
       "    [-88.011052, 30.685351],\n",
       "    [-88.10416, 30.499135],\n",
       "    [-88.137022, 30.318396],\n",
       "    [-88.394438, 30.367688],\n",
       "    [-88.471115, 31.895754],\n",
       "    [-88.241084, 33.796253],\n",
       "    [-88.098683, 34.891641],\n",
       "    [-88.202745, 34.995703],\n",
       "    [-87.359296, 35.00118]]]}}"
      ]
     },
     "execution_count": 5,
     "metadata": {},
     "output_type": "execute_result"
    }
   ],
   "source": [
    "df.iloc[0,1]"
   ]
  },
  {
   "cell_type": "code",
   "execution_count": 6,
   "metadata": {},
   "outputs": [
    {
     "data": {
      "text/html": [
       "<div>\n",
       "<style scoped>\n",
       "    .dataframe tbody tr th:only-of-type {\n",
       "        vertical-align: middle;\n",
       "    }\n",
       "\n",
       "    .dataframe tbody tr th {\n",
       "        vertical-align: top;\n",
       "    }\n",
       "\n",
       "    .dataframe thead th {\n",
       "        text-align: right;\n",
       "    }\n",
       "</style>\n",
       "<table border=\"1\" class=\"dataframe\">\n",
       "  <thead>\n",
       "    <tr style=\"text-align: right;\">\n",
       "      <th></th>\n",
       "      <th>State</th>\n",
       "      <th>Unemployment</th>\n",
       "    </tr>\n",
       "  </thead>\n",
       "  <tbody>\n",
       "    <tr>\n",
       "      <th>0</th>\n",
       "      <td>AL</td>\n",
       "      <td>7.1</td>\n",
       "    </tr>\n",
       "    <tr>\n",
       "      <th>1</th>\n",
       "      <td>AK</td>\n",
       "      <td>6.8</td>\n",
       "    </tr>\n",
       "    <tr>\n",
       "      <th>2</th>\n",
       "      <td>AZ</td>\n",
       "      <td>8.1</td>\n",
       "    </tr>\n",
       "    <tr>\n",
       "      <th>3</th>\n",
       "      <td>AR</td>\n",
       "      <td>7.2</td>\n",
       "    </tr>\n",
       "    <tr>\n",
       "      <th>4</th>\n",
       "      <td>CA</td>\n",
       "      <td>10.1</td>\n",
       "    </tr>\n",
       "  </tbody>\n",
       "</table>\n",
       "</div>"
      ],
      "text/plain": [
       "  State  Unemployment\n",
       "0    AL           7.1\n",
       "1    AK           6.8\n",
       "2    AZ           8.1\n",
       "3    AR           7.2\n",
       "4    CA          10.1"
      ]
     },
     "execution_count": 6,
     "metadata": {},
     "output_type": "execute_result"
    }
   ],
   "source": [
    "df2 = pd.read_csv('https://raw.githubusercontent.com/jaeem006/beduadp/master/Datasets/us_unemployment-oct_2012.csv')\n",
    "df2.head()"
   ]
  },
  {
   "cell_type": "code",
   "execution_count": null,
   "metadata": {},
   "outputs": [],
   "source": [
    "state_geo = f'https://raw.githubusercontent.com/jaeem006/beduadp/master/Datasets/us_states.json'\n",
    "state_unemployment = f'https://raw.githubusercontent.com/jaeem006/beduadp/master/Datasets/us_unemployment-oct_2012.csv'\n",
    "state_data = pd.read_csv(state_unemployment)\n",
    "\n",
    "m = folium.Map(location=[48, -102], zoom_start=3, width='60%', height='60%')\n",
    "\n",
    "folium.Choropleth(\n",
    "    geo_data=state_geo,\n",
    "    name='choropleth',\n",
    "    data=state_data,\n",
    "    columns=['State', 'Unemployment'],\n",
    "    key_on='feature.id',\n",
    "    fill_color='YlGn',\n",
    "    fill_opacity=0.7,\n",
    "    line_opacity=0.2,\n",
    "    legend_name='Unemployment Rate (%)'\n",
    ").add_to(m)\n",
    "\n",
    "folium.LayerControl().add_to(m)\n",
    "\n",
    "m"
   ]
  },
  {
   "cell_type": "markdown",
   "metadata": {},
   "source": [
    "Es posible agregar popups para poder visualizar los valores de cada región. Si te interesa aprender cómo hacer esto, puedes visitar este link: https://vverde.github.io/blob/interactivechoropleth.html."
   ]
  },
  {
   "cell_type": "code",
   "execution_count": 8,
   "metadata": {},
   "outputs": [
    {
     "data": {
      "text/plain": [
       "'https://raw.githubusercontent.com/jaeem006/beduadp/master/Datasets/us_states.json'"
      ]
     },
     "execution_count": 8,
     "metadata": {},
     "output_type": "execute_result"
    }
   ],
   "source": [
    "state_geo"
   ]
  },
  {
   "cell_type": "code",
   "execution_count": null,
   "metadata": {},
   "outputs": [],
   "source": []
  }
 ],
 "metadata": {
  "kernelspec": {
   "display_name": "Python 3.9.7 ('base')",
   "language": "python",
   "name": "python3"
  },
  "language_info": {
   "codemirror_mode": {
    "name": "ipython",
    "version": 3
   },
   "file_extension": ".py",
   "mimetype": "text/x-python",
   "name": "python",
   "nbconvert_exporter": "python",
   "pygments_lexer": "ipython3",
   "version": "3.9.7"
  },
  "vscode": {
   "interpreter": {
    "hash": "f363b6552389bb5843ae6ef674413dc477fa310722bf5be5fb5c6d7e5809c86d"
   }
  }
 },
 "nbformat": 4,
 "nbformat_minor": 4
}
