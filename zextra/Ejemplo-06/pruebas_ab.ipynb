{
  "nbformat": 4,
  "nbformat_minor": 0,
  "metadata": {
    "kernelspec": {
      "display_name": "Python 3",
      "language": "python",
      "name": "python3"
    },
    "language_info": {
      "codemirror_mode": {
        "name": "ipython",
        "version": 3
      },
      "file_extension": ".py",
      "mimetype": "text/x-python",
      "name": "python",
      "nbconvert_exporter": "python",
      "pygments_lexer": "ipython3",
      "version": "3.8.5"
    },
    "colab": {
      "name": "pruebas_ab.ipynb",
      "provenance": []
    }
  },
  "cells": [
    {
      "cell_type": "markdown",
      "metadata": {
        "id": "0syvIY683tAJ"
      },
      "source": [
        "## Ejemplo 1: Pruebas A/B\n",
        "\n",
        "### 1. Objetivos:\n",
        "    - Aprender a evaluar los resultados de una Prueba A/B\n",
        " \n",
        "---\n",
        "    \n",
        "### 2. Desarrollo:"
      ]
    },
    {
      "cell_type": "markdown",
      "metadata": {
        "id": "OwMfIwNn3tAL"
      },
      "source": [
        "El siguiente es un dataset obtenido con los resultados de una Prueba A/B. Se probaron dos flujos de venta distintos y se registró si cada uno de ellos resultó en una conversión (venta) o no. El test A es la hipótesis alternativa (la aplicada al grupo experimental), mientras que el test B es la hipótesis nula (la aplicada al grupo control)."
      ]
    },
    {
      "cell_type": "code",
      "metadata": {
        "id": "I1oKOR1K3tAM"
      },
      "source": [
        "import pandas as pd\n",
        "import seaborn as sns\n",
        "import matplotlib.pyplot as plt"
      ],
      "execution_count": 5,
      "outputs": []
    },
    {
      "cell_type": "code",
      "metadata": {
        "id": "CwjlRF3s3tAN",
        "outputId": "591d0eac-7c93-4b83-cefc-bf85447786cb",
        "colab": {
          "base_uri": "https://localhost:8080/",
          "height": 419
        }
      },
      "source": [
        "df = pd.read_csv('https://raw.githubusercontent.com/jaeem006/beduadp/master/Datasets/ab_test-sales_pipeline.csv')\n",
        "\n",
        "df"
      ],
      "execution_count": 6,
      "outputs": [
        {
          "output_type": "execute_result",
          "data": {
            "text/html": [
              "<div>\n",
              "<style scoped>\n",
              "    .dataframe tbody tr th:only-of-type {\n",
              "        vertical-align: middle;\n",
              "    }\n",
              "\n",
              "    .dataframe tbody tr th {\n",
              "        vertical-align: top;\n",
              "    }\n",
              "\n",
              "    .dataframe thead th {\n",
              "        text-align: right;\n",
              "    }\n",
              "</style>\n",
              "<table border=\"1\" class=\"dataframe\">\n",
              "  <thead>\n",
              "    <tr style=\"text-align: right;\">\n",
              "      <th></th>\n",
              "      <th>test</th>\n",
              "      <th>conversion</th>\n",
              "      <th>no conversion</th>\n",
              "    </tr>\n",
              "  </thead>\n",
              "  <tbody>\n",
              "    <tr>\n",
              "      <th>0</th>\n",
              "      <td>B</td>\n",
              "      <td>0</td>\n",
              "      <td>1</td>\n",
              "    </tr>\n",
              "    <tr>\n",
              "      <th>1</th>\n",
              "      <td>A</td>\n",
              "      <td>0</td>\n",
              "      <td>1</td>\n",
              "    </tr>\n",
              "    <tr>\n",
              "      <th>2</th>\n",
              "      <td>A</td>\n",
              "      <td>0</td>\n",
              "      <td>1</td>\n",
              "    </tr>\n",
              "    <tr>\n",
              "      <th>3</th>\n",
              "      <td>A</td>\n",
              "      <td>0</td>\n",
              "      <td>1</td>\n",
              "    </tr>\n",
              "    <tr>\n",
              "      <th>4</th>\n",
              "      <td>A</td>\n",
              "      <td>0</td>\n",
              "      <td>1</td>\n",
              "    </tr>\n",
              "    <tr>\n",
              "      <th>...</th>\n",
              "      <td>...</td>\n",
              "      <td>...</td>\n",
              "      <td>...</td>\n",
              "    </tr>\n",
              "    <tr>\n",
              "      <th>46322</th>\n",
              "      <td>B</td>\n",
              "      <td>0</td>\n",
              "      <td>1</td>\n",
              "    </tr>\n",
              "    <tr>\n",
              "      <th>46323</th>\n",
              "      <td>B</td>\n",
              "      <td>0</td>\n",
              "      <td>1</td>\n",
              "    </tr>\n",
              "    <tr>\n",
              "      <th>46324</th>\n",
              "      <td>B</td>\n",
              "      <td>0</td>\n",
              "      <td>1</td>\n",
              "    </tr>\n",
              "    <tr>\n",
              "      <th>46325</th>\n",
              "      <td>A</td>\n",
              "      <td>0</td>\n",
              "      <td>1</td>\n",
              "    </tr>\n",
              "    <tr>\n",
              "      <th>46326</th>\n",
              "      <td>A</td>\n",
              "      <td>0</td>\n",
              "      <td>1</td>\n",
              "    </tr>\n",
              "  </tbody>\n",
              "</table>\n",
              "<p>46327 rows × 3 columns</p>\n",
              "</div>"
            ],
            "text/plain": [
              "      test  conversion  no conversion\n",
              "0        B           0              1\n",
              "1        A           0              1\n",
              "2        A           0              1\n",
              "3        A           0              1\n",
              "4        A           0              1\n",
              "...    ...         ...            ...\n",
              "46322    B           0              1\n",
              "46323    B           0              1\n",
              "46324    B           0              1\n",
              "46325    A           0              1\n",
              "46326    A           0              1\n",
              "\n",
              "[46327 rows x 3 columns]"
            ]
          },
          "metadata": {
            "tags": []
          },
          "execution_count": 6
        }
      ]
    },
    {
      "cell_type": "markdown",
      "metadata": {
        "id": "UujJV8th3tAO"
      },
      "source": [
        "Lo primero que podemos hacer es agrupar nuestros resultados por 'test', para realizar un conteo de cuántas conversiones hubo con cada flujo de ventas:"
      ]
    },
    {
      "cell_type": "code",
      "metadata": {
        "id": "mtSLtiW43tAT",
        "outputId": "516dd7f6-3b65-4b66-b4d4-cdbaf79bf580",
        "colab": {
          "base_uri": "https://localhost:8080/",
          "height": 142
        }
      },
      "source": [
        "total_count = df.groupby('test')[['conversion', 'no conversion']].sum()\n",
        "\n",
        "total_count"
      ],
      "execution_count": 7,
      "outputs": [
        {
          "output_type": "execute_result",
          "data": {
            "text/html": [
              "<div>\n",
              "<style scoped>\n",
              "    .dataframe tbody tr th:only-of-type {\n",
              "        vertical-align: middle;\n",
              "    }\n",
              "\n",
              "    .dataframe tbody tr th {\n",
              "        vertical-align: top;\n",
              "    }\n",
              "\n",
              "    .dataframe thead th {\n",
              "        text-align: right;\n",
              "    }\n",
              "</style>\n",
              "<table border=\"1\" class=\"dataframe\">\n",
              "  <thead>\n",
              "    <tr style=\"text-align: right;\">\n",
              "      <th></th>\n",
              "      <th>conversion</th>\n",
              "      <th>no conversion</th>\n",
              "    </tr>\n",
              "    <tr>\n",
              "      <th>test</th>\n",
              "      <th></th>\n",
              "      <th></th>\n",
              "    </tr>\n",
              "  </thead>\n",
              "  <tbody>\n",
              "    <tr>\n",
              "      <th>A</th>\n",
              "      <td>198</td>\n",
              "      <td>23541</td>\n",
              "    </tr>\n",
              "    <tr>\n",
              "      <th>B</th>\n",
              "      <td>184</td>\n",
              "      <td>22404</td>\n",
              "    </tr>\n",
              "  </tbody>\n",
              "</table>\n",
              "</div>"
            ],
            "text/plain": [
              "      conversion  no conversion\n",
              "test                           \n",
              "A            198          23541\n",
              "B            184          22404"
            ]
          },
          "metadata": {
            "tags": []
          },
          "execution_count": 7
        }
      ]
    },
    {
      "cell_type": "markdown",
      "metadata": {
        "id": "1isMTVKl3tAZ"
      },
      "source": [
        "Saquemos la proporción de conversiones que hubo comparadas con el total de pruebas que se realizaron:"
      ]
    },
    {
      "cell_type": "code",
      "metadata": {
        "id": "h1ZLLfaa3tAa",
        "outputId": "83100ad2-c7cd-49e1-b2db-85a80f2d45f0",
        "colab": {
          "base_uri": "https://localhost:8080/",
          "height": 142
        }
      },
      "source": [
        "total_count['success rate'] = total_count['conversion'] / (total_count['conversion'] + total_count['no conversion'])\n",
        "\n",
        "total_count"
      ],
      "execution_count": 8,
      "outputs": [
        {
          "output_type": "execute_result",
          "data": {
            "text/html": [
              "<div>\n",
              "<style scoped>\n",
              "    .dataframe tbody tr th:only-of-type {\n",
              "        vertical-align: middle;\n",
              "    }\n",
              "\n",
              "    .dataframe tbody tr th {\n",
              "        vertical-align: top;\n",
              "    }\n",
              "\n",
              "    .dataframe thead th {\n",
              "        text-align: right;\n",
              "    }\n",
              "</style>\n",
              "<table border=\"1\" class=\"dataframe\">\n",
              "  <thead>\n",
              "    <tr style=\"text-align: right;\">\n",
              "      <th></th>\n",
              "      <th>conversion</th>\n",
              "      <th>no conversion</th>\n",
              "      <th>success rate</th>\n",
              "    </tr>\n",
              "    <tr>\n",
              "      <th>test</th>\n",
              "      <th></th>\n",
              "      <th></th>\n",
              "      <th></th>\n",
              "    </tr>\n",
              "  </thead>\n",
              "  <tbody>\n",
              "    <tr>\n",
              "      <th>A</th>\n",
              "      <td>198</td>\n",
              "      <td>23541</td>\n",
              "      <td>0.008341</td>\n",
              "    </tr>\n",
              "    <tr>\n",
              "      <th>B</th>\n",
              "      <td>184</td>\n",
              "      <td>22404</td>\n",
              "      <td>0.008146</td>\n",
              "    </tr>\n",
              "  </tbody>\n",
              "</table>\n",
              "</div>"
            ],
            "text/plain": [
              "      conversion  no conversion  success rate\n",
              "test                                         \n",
              "A            198          23541      0.008341\n",
              "B            184          22404      0.008146"
            ]
          },
          "metadata": {
            "tags": []
          },
          "execution_count": 8
        }
      ]
    },
    {
      "cell_type": "markdown",
      "metadata": {
        "id": "k2rsRDF13tAe"
      },
      "source": [
        "Con estos datos parecería que el flujo A (la hipótesis alternativa) es superior al flujo B. Veamos qué tan superior:"
      ]
    },
    {
      "cell_type": "code",
      "metadata": {
        "id": "nW5cQbs93tAf"
      },
      "source": [
        "diferencia_en_proporcion = 1 - (total_count.loc['B']['success rate'] / total_count.loc['A']['success rate'])\n",
        "diferencia_en_porcentaje = diferencia_en_proporcion * 100"
      ],
      "execution_count": 9,
      "outputs": []
    },
    {
      "cell_type": "code",
      "metadata": {
        "id": "QIr1Bmb83tAg",
        "outputId": "33167861-80d9-4922-e9d1-d559b081f31f",
        "colab": {
          "base_uri": "https://localhost:8080/"
        }
      },
      "source": [
        "print(f'El test A fue {diferencia_en_porcentaje:.2f}% más efectivo que el test B para generar ventas.')"
      ],
      "execution_count": 10,
      "outputs": [
        {
          "output_type": "stream",
          "text": [
            "El test A fue 2.34% más efectivo que el test B para generar ventas.\n"
          ],
          "name": "stdout"
        }
      ]
    },
    {
      "cell_type": "markdown",
      "metadata": {
        "id": "N44UuVB93tAi"
      },
      "source": [
        "¿Ahora, podemos entonces concluir que el flujo de ventas A es mejor que el B? No tan rápido. Vamos a aplicar un test de permutación para saber si nuestro hallazgo es estadísticamente significativo.\n",
        "\n",
        "Primero tenemos que mezclar las mediciones del test A y el B en el mismo DataFrame. Esto ya está hecho, entonces solamente vamos a eliminar la columna 'test' para que no haya manera de diferenciarlos:"
      ]
    },
    {
      "cell_type": "code",
      "metadata": {
        "id": "DxRrDJ0d3tAj"
      },
      "source": [
        "all_measurements = df[['conversion', 'no conversion']]"
      ],
      "execution_count": 11,
      "outputs": []
    },
    {
      "cell_type": "markdown",
      "metadata": {
        "id": "jkrPSIiA3tAk"
      },
      "source": [
        "Ahora necesitamos saber cuántos tests con el flujo A hubieron para poder generar muestras del mismo tamaño exactamente:"
      ]
    },
    {
      "cell_type": "code",
      "metadata": {
        "id": "sXTO2g4m3tAo",
        "outputId": "4ffa0c93-bd61-49b2-e158-ebef9ceaaf03",
        "colab": {
          "base_uri": "https://localhost:8080/"
        }
      },
      "source": [
        "value_counts = df['test'].value_counts()\n",
        "\n",
        "value_counts"
      ],
      "execution_count": 12,
      "outputs": [
        {
          "output_type": "execute_result",
          "data": {
            "text/plain": [
              "A    23739\n",
              "B    22588\n",
              "Name: test, dtype: int64"
            ]
          },
          "metadata": {
            "tags": []
          },
          "execution_count": 12
        }
      ]
    },
    {
      "cell_type": "markdown",
      "metadata": {
        "id": "qiivSBih3tAq"
      },
      "source": [
        "Ahora vamos a aplicar el resto del algoritmo del test de permutación:\n",
        "\n",
        "1. Usando muestreo aleatorio sin reposición, construye un nuevo grupo A del mismo tamaño que el original.\n",
        "2. El resto de los datos conforman nuestro nuevo grupo B.\n",
        "3. Cuantifica la métrica o estadística que calculaste con los grupos originales y guarda el resultado.\n",
        "4. Repite los pasos 1-5 `R` veces para obtener una distribución de la estadística de interés."
      ]
    },
    {
      "cell_type": "code",
      "metadata": {
        "id": "oJ45ocRi3tAq"
      },
      "source": [
        "conv_a = []\n",
        "no_conv_a = []\n",
        "conv_b = []\n",
        "no_conv_b = []\n",
        "\n",
        "for _ in range(1000):\n",
        "    a = df.sample(value_counts.loc['A'], replace=False)\n",
        "    conv_a.append(a['conversion'].sum())\n",
        "    no_conv_a.append(a['no conversion'].sum())\n",
        "    \n",
        "    b = df.loc[~df.index.isin(a.index)]\n",
        "    conv_b.append(b['conversion'].sum())\n",
        "    no_conv_b.append(b['no conversion'].sum())"
      ],
      "execution_count": 13,
      "outputs": []
    },
    {
      "cell_type": "code",
      "metadata": {
        "id": "qoeJc0DV3tAr",
        "outputId": "2baf7d0f-deba-4b2e-d34a-bfb6042d80b0",
        "colab": {
          "base_uri": "https://localhost:8080/",
          "height": 419
        }
      },
      "source": [
        "perm_results = pd.DataFrame({\n",
        "    'conv_a': conv_a,\n",
        "    'no_conv_a': no_conv_a,\n",
        "    'conv_b': conv_b,\n",
        "    'no_conv_b': no_conv_b\n",
        "})\n",
        "\n",
        "perm_results"
      ],
      "execution_count": 14,
      "outputs": [
        {
          "output_type": "execute_result",
          "data": {
            "text/html": [
              "<div>\n",
              "<style scoped>\n",
              "    .dataframe tbody tr th:only-of-type {\n",
              "        vertical-align: middle;\n",
              "    }\n",
              "\n",
              "    .dataframe tbody tr th {\n",
              "        vertical-align: top;\n",
              "    }\n",
              "\n",
              "    .dataframe thead th {\n",
              "        text-align: right;\n",
              "    }\n",
              "</style>\n",
              "<table border=\"1\" class=\"dataframe\">\n",
              "  <thead>\n",
              "    <tr style=\"text-align: right;\">\n",
              "      <th></th>\n",
              "      <th>conv_a</th>\n",
              "      <th>no_conv_a</th>\n",
              "      <th>conv_b</th>\n",
              "      <th>no_conv_b</th>\n",
              "    </tr>\n",
              "  </thead>\n",
              "  <tbody>\n",
              "    <tr>\n",
              "      <th>0</th>\n",
              "      <td>194</td>\n",
              "      <td>23545</td>\n",
              "      <td>188</td>\n",
              "      <td>22400</td>\n",
              "    </tr>\n",
              "    <tr>\n",
              "      <th>1</th>\n",
              "      <td>200</td>\n",
              "      <td>23539</td>\n",
              "      <td>182</td>\n",
              "      <td>22406</td>\n",
              "    </tr>\n",
              "    <tr>\n",
              "      <th>2</th>\n",
              "      <td>184</td>\n",
              "      <td>23555</td>\n",
              "      <td>198</td>\n",
              "      <td>22390</td>\n",
              "    </tr>\n",
              "    <tr>\n",
              "      <th>3</th>\n",
              "      <td>192</td>\n",
              "      <td>23547</td>\n",
              "      <td>190</td>\n",
              "      <td>22398</td>\n",
              "    </tr>\n",
              "    <tr>\n",
              "      <th>4</th>\n",
              "      <td>196</td>\n",
              "      <td>23543</td>\n",
              "      <td>186</td>\n",
              "      <td>22402</td>\n",
              "    </tr>\n",
              "    <tr>\n",
              "      <th>...</th>\n",
              "      <td>...</td>\n",
              "      <td>...</td>\n",
              "      <td>...</td>\n",
              "      <td>...</td>\n",
              "    </tr>\n",
              "    <tr>\n",
              "      <th>995</th>\n",
              "      <td>196</td>\n",
              "      <td>23543</td>\n",
              "      <td>186</td>\n",
              "      <td>22402</td>\n",
              "    </tr>\n",
              "    <tr>\n",
              "      <th>996</th>\n",
              "      <td>191</td>\n",
              "      <td>23548</td>\n",
              "      <td>191</td>\n",
              "      <td>22397</td>\n",
              "    </tr>\n",
              "    <tr>\n",
              "      <th>997</th>\n",
              "      <td>201</td>\n",
              "      <td>23538</td>\n",
              "      <td>181</td>\n",
              "      <td>22407</td>\n",
              "    </tr>\n",
              "    <tr>\n",
              "      <th>998</th>\n",
              "      <td>196</td>\n",
              "      <td>23543</td>\n",
              "      <td>186</td>\n",
              "      <td>22402</td>\n",
              "    </tr>\n",
              "    <tr>\n",
              "      <th>999</th>\n",
              "      <td>211</td>\n",
              "      <td>23528</td>\n",
              "      <td>171</td>\n",
              "      <td>22417</td>\n",
              "    </tr>\n",
              "  </tbody>\n",
              "</table>\n",
              "<p>1000 rows × 4 columns</p>\n",
              "</div>"
            ],
            "text/plain": [
              "     conv_a  no_conv_a  conv_b  no_conv_b\n",
              "0       194      23545     188      22400\n",
              "1       200      23539     182      22406\n",
              "2       184      23555     198      22390\n",
              "3       192      23547     190      22398\n",
              "4       196      23543     186      22402\n",
              "..      ...        ...     ...        ...\n",
              "995     196      23543     186      22402\n",
              "996     191      23548     191      22397\n",
              "997     201      23538     181      22407\n",
              "998     196      23543     186      22402\n",
              "999     211      23528     171      22417\n",
              "\n",
              "[1000 rows x 4 columns]"
            ]
          },
          "metadata": {
            "tags": []
          },
          "execution_count": 14
        }
      ]
    },
    {
      "cell_type": "code",
      "metadata": {
        "id": "5mDFl8gN3tAt"
      },
      "source": [
        "perm_results['a_conv_rate'] = perm_results['conv_a'] / (perm_results['conv_a'] + perm_results['no_conv_a'])\n",
        "perm_results['b_conv_rate'] = perm_results['conv_b'] / (perm_results['conv_b'] + perm_results['no_conv_b'])"
      ],
      "execution_count": 15,
      "outputs": []
    },
    {
      "cell_type": "code",
      "metadata": {
        "id": "PpwraDLY3tAt",
        "outputId": "5b80c099-af3f-4931-c74c-0f0452aa4426",
        "colab": {
          "base_uri": "https://localhost:8080/",
          "height": 419
        }
      },
      "source": [
        "perm_results"
      ],
      "execution_count": 16,
      "outputs": [
        {
          "output_type": "execute_result",
          "data": {
            "text/html": [
              "<div>\n",
              "<style scoped>\n",
              "    .dataframe tbody tr th:only-of-type {\n",
              "        vertical-align: middle;\n",
              "    }\n",
              "\n",
              "    .dataframe tbody tr th {\n",
              "        vertical-align: top;\n",
              "    }\n",
              "\n",
              "    .dataframe thead th {\n",
              "        text-align: right;\n",
              "    }\n",
              "</style>\n",
              "<table border=\"1\" class=\"dataframe\">\n",
              "  <thead>\n",
              "    <tr style=\"text-align: right;\">\n",
              "      <th></th>\n",
              "      <th>conv_a</th>\n",
              "      <th>no_conv_a</th>\n",
              "      <th>conv_b</th>\n",
              "      <th>no_conv_b</th>\n",
              "      <th>a_conv_rate</th>\n",
              "      <th>b_conv_rate</th>\n",
              "    </tr>\n",
              "  </thead>\n",
              "  <tbody>\n",
              "    <tr>\n",
              "      <th>0</th>\n",
              "      <td>194</td>\n",
              "      <td>23545</td>\n",
              "      <td>188</td>\n",
              "      <td>22400</td>\n",
              "      <td>0.008172</td>\n",
              "      <td>0.008323</td>\n",
              "    </tr>\n",
              "    <tr>\n",
              "      <th>1</th>\n",
              "      <td>200</td>\n",
              "      <td>23539</td>\n",
              "      <td>182</td>\n",
              "      <td>22406</td>\n",
              "      <td>0.008425</td>\n",
              "      <td>0.008057</td>\n",
              "    </tr>\n",
              "    <tr>\n",
              "      <th>2</th>\n",
              "      <td>184</td>\n",
              "      <td>23555</td>\n",
              "      <td>198</td>\n",
              "      <td>22390</td>\n",
              "      <td>0.007751</td>\n",
              "      <td>0.008766</td>\n",
              "    </tr>\n",
              "    <tr>\n",
              "      <th>3</th>\n",
              "      <td>192</td>\n",
              "      <td>23547</td>\n",
              "      <td>190</td>\n",
              "      <td>22398</td>\n",
              "      <td>0.008088</td>\n",
              "      <td>0.008412</td>\n",
              "    </tr>\n",
              "    <tr>\n",
              "      <th>4</th>\n",
              "      <td>196</td>\n",
              "      <td>23543</td>\n",
              "      <td>186</td>\n",
              "      <td>22402</td>\n",
              "      <td>0.008256</td>\n",
              "      <td>0.008234</td>\n",
              "    </tr>\n",
              "    <tr>\n",
              "      <th>...</th>\n",
              "      <td>...</td>\n",
              "      <td>...</td>\n",
              "      <td>...</td>\n",
              "      <td>...</td>\n",
              "      <td>...</td>\n",
              "      <td>...</td>\n",
              "    </tr>\n",
              "    <tr>\n",
              "      <th>995</th>\n",
              "      <td>196</td>\n",
              "      <td>23543</td>\n",
              "      <td>186</td>\n",
              "      <td>22402</td>\n",
              "      <td>0.008256</td>\n",
              "      <td>0.008234</td>\n",
              "    </tr>\n",
              "    <tr>\n",
              "      <th>996</th>\n",
              "      <td>191</td>\n",
              "      <td>23548</td>\n",
              "      <td>191</td>\n",
              "      <td>22397</td>\n",
              "      <td>0.008046</td>\n",
              "      <td>0.008456</td>\n",
              "    </tr>\n",
              "    <tr>\n",
              "      <th>997</th>\n",
              "      <td>201</td>\n",
              "      <td>23538</td>\n",
              "      <td>181</td>\n",
              "      <td>22407</td>\n",
              "      <td>0.008467</td>\n",
              "      <td>0.008013</td>\n",
              "    </tr>\n",
              "    <tr>\n",
              "      <th>998</th>\n",
              "      <td>196</td>\n",
              "      <td>23543</td>\n",
              "      <td>186</td>\n",
              "      <td>22402</td>\n",
              "      <td>0.008256</td>\n",
              "      <td>0.008234</td>\n",
              "    </tr>\n",
              "    <tr>\n",
              "      <th>999</th>\n",
              "      <td>211</td>\n",
              "      <td>23528</td>\n",
              "      <td>171</td>\n",
              "      <td>22417</td>\n",
              "      <td>0.008888</td>\n",
              "      <td>0.007570</td>\n",
              "    </tr>\n",
              "  </tbody>\n",
              "</table>\n",
              "<p>1000 rows × 6 columns</p>\n",
              "</div>"
            ],
            "text/plain": [
              "     conv_a  no_conv_a  conv_b  no_conv_b  a_conv_rate  b_conv_rate\n",
              "0       194      23545     188      22400     0.008172     0.008323\n",
              "1       200      23539     182      22406     0.008425     0.008057\n",
              "2       184      23555     198      22390     0.007751     0.008766\n",
              "3       192      23547     190      22398     0.008088     0.008412\n",
              "4       196      23543     186      22402     0.008256     0.008234\n",
              "..      ...        ...     ...        ...          ...          ...\n",
              "995     196      23543     186      22402     0.008256     0.008234\n",
              "996     191      23548     191      22397     0.008046     0.008456\n",
              "997     201      23538     181      22407     0.008467     0.008013\n",
              "998     196      23543     186      22402     0.008256     0.008234\n",
              "999     211      23528     171      22417     0.008888     0.007570\n",
              "\n",
              "[1000 rows x 6 columns]"
            ]
          },
          "metadata": {
            "tags": []
          },
          "execution_count": 16
        }
      ]
    },
    {
      "cell_type": "code",
      "metadata": {
        "id": "7duIh6mf3tAu",
        "outputId": "c50ff591-a0a5-4199-b2ac-5ccefc76cf3d",
        "colab": {
          "base_uri": "https://localhost:8080/",
          "height": 419
        }
      },
      "source": [
        "perm_results['diff'] = 1 - (perm_results['b_conv_rate'] / perm_results['a_conv_rate'])\n",
        "\n",
        "perm_results"
      ],
      "execution_count": 17,
      "outputs": [
        {
          "output_type": "execute_result",
          "data": {
            "text/html": [
              "<div>\n",
              "<style scoped>\n",
              "    .dataframe tbody tr th:only-of-type {\n",
              "        vertical-align: middle;\n",
              "    }\n",
              "\n",
              "    .dataframe tbody tr th {\n",
              "        vertical-align: top;\n",
              "    }\n",
              "\n",
              "    .dataframe thead th {\n",
              "        text-align: right;\n",
              "    }\n",
              "</style>\n",
              "<table border=\"1\" class=\"dataframe\">\n",
              "  <thead>\n",
              "    <tr style=\"text-align: right;\">\n",
              "      <th></th>\n",
              "      <th>conv_a</th>\n",
              "      <th>no_conv_a</th>\n",
              "      <th>conv_b</th>\n",
              "      <th>no_conv_b</th>\n",
              "      <th>a_conv_rate</th>\n",
              "      <th>b_conv_rate</th>\n",
              "      <th>diff</th>\n",
              "    </tr>\n",
              "  </thead>\n",
              "  <tbody>\n",
              "    <tr>\n",
              "      <th>0</th>\n",
              "      <td>194</td>\n",
              "      <td>23545</td>\n",
              "      <td>188</td>\n",
              "      <td>22400</td>\n",
              "      <td>0.008172</td>\n",
              "      <td>0.008323</td>\n",
              "      <td>-0.018452</td>\n",
              "    </tr>\n",
              "    <tr>\n",
              "      <th>1</th>\n",
              "      <td>200</td>\n",
              "      <td>23539</td>\n",
              "      <td>182</td>\n",
              "      <td>22406</td>\n",
              "      <td>0.008425</td>\n",
              "      <td>0.008057</td>\n",
              "      <td>0.043630</td>\n",
              "    </tr>\n",
              "    <tr>\n",
              "      <th>2</th>\n",
              "      <td>184</td>\n",
              "      <td>23555</td>\n",
              "      <td>198</td>\n",
              "      <td>22390</td>\n",
              "      <td>0.007751</td>\n",
              "      <td>0.008766</td>\n",
              "      <td>-0.130920</td>\n",
              "    </tr>\n",
              "    <tr>\n",
              "      <th>3</th>\n",
              "      <td>192</td>\n",
              "      <td>23547</td>\n",
              "      <td>190</td>\n",
              "      <td>22398</td>\n",
              "      <td>0.008088</td>\n",
              "      <td>0.008412</td>\n",
              "      <td>-0.040009</td>\n",
              "    </tr>\n",
              "    <tr>\n",
              "      <th>4</th>\n",
              "      <td>196</td>\n",
              "      <td>23543</td>\n",
              "      <td>186</td>\n",
              "      <td>22402</td>\n",
              "      <td>0.008256</td>\n",
              "      <td>0.008234</td>\n",
              "      <td>0.002664</td>\n",
              "    </tr>\n",
              "    <tr>\n",
              "      <th>...</th>\n",
              "      <td>...</td>\n",
              "      <td>...</td>\n",
              "      <td>...</td>\n",
              "      <td>...</td>\n",
              "      <td>...</td>\n",
              "      <td>...</td>\n",
              "      <td>...</td>\n",
              "    </tr>\n",
              "    <tr>\n",
              "      <th>995</th>\n",
              "      <td>196</td>\n",
              "      <td>23543</td>\n",
              "      <td>186</td>\n",
              "      <td>22402</td>\n",
              "      <td>0.008256</td>\n",
              "      <td>0.008234</td>\n",
              "      <td>0.002664</td>\n",
              "    </tr>\n",
              "    <tr>\n",
              "      <th>996</th>\n",
              "      <td>191</td>\n",
              "      <td>23548</td>\n",
              "      <td>191</td>\n",
              "      <td>22397</td>\n",
              "      <td>0.008046</td>\n",
              "      <td>0.008456</td>\n",
              "      <td>-0.050956</td>\n",
              "    </tr>\n",
              "    <tr>\n",
              "      <th>997</th>\n",
              "      <td>201</td>\n",
              "      <td>23538</td>\n",
              "      <td>181</td>\n",
              "      <td>22407</td>\n",
              "      <td>0.008467</td>\n",
              "      <td>0.008013</td>\n",
              "      <td>0.053617</td>\n",
              "    </tr>\n",
              "    <tr>\n",
              "      <th>998</th>\n",
              "      <td>196</td>\n",
              "      <td>23543</td>\n",
              "      <td>186</td>\n",
              "      <td>22402</td>\n",
              "      <td>0.008256</td>\n",
              "      <td>0.008234</td>\n",
              "      <td>0.002664</td>\n",
              "    </tr>\n",
              "    <tr>\n",
              "      <th>999</th>\n",
              "      <td>211</td>\n",
              "      <td>23528</td>\n",
              "      <td>171</td>\n",
              "      <td>22417</td>\n",
              "      <td>0.008888</td>\n",
              "      <td>0.007570</td>\n",
              "      <td>0.148277</td>\n",
              "    </tr>\n",
              "  </tbody>\n",
              "</table>\n",
              "<p>1000 rows × 7 columns</p>\n",
              "</div>"
            ],
            "text/plain": [
              "     conv_a  no_conv_a  conv_b  no_conv_b  a_conv_rate  b_conv_rate      diff\n",
              "0       194      23545     188      22400     0.008172     0.008323 -0.018452\n",
              "1       200      23539     182      22406     0.008425     0.008057  0.043630\n",
              "2       184      23555     198      22390     0.007751     0.008766 -0.130920\n",
              "3       192      23547     190      22398     0.008088     0.008412 -0.040009\n",
              "4       196      23543     186      22402     0.008256     0.008234  0.002664\n",
              "..      ...        ...     ...        ...          ...          ...       ...\n",
              "995     196      23543     186      22402     0.008256     0.008234  0.002664\n",
              "996     191      23548     191      22397     0.008046     0.008456 -0.050956\n",
              "997     201      23538     181      22407     0.008467     0.008013  0.053617\n",
              "998     196      23543     186      22402     0.008256     0.008234  0.002664\n",
              "999     211      23528     171      22417     0.008888     0.007570  0.148277\n",
              "\n",
              "[1000 rows x 7 columns]"
            ]
          },
          "metadata": {
            "tags": []
          },
          "execution_count": 17
        }
      ]
    },
    {
      "cell_type": "markdown",
      "metadata": {
        "id": "QnsM53t53tAv"
      },
      "source": [
        "Ya tenemos nuestros resultados, vamos a ver dónde cae en nuestra distribución el resultado que obtuvimos en nuestro experimento:"
      ]
    },
    {
      "cell_type": "code",
      "metadata": {
        "id": "3OjTj39w3tAw",
        "outputId": "10e52465-6072-4a87-9158-b6ed5519c067",
        "colab": {
          "base_uri": "https://localhost:8080/",
          "height": 369
        }
      },
      "source": [
        "sns.displot(perm_results['diff'], kde=False)\n",
        "\n",
        "plt.axvline(diferencia_en_proporcion);"
      ],
      "execution_count": 18,
      "outputs": [
        {
          "output_type": "display_data",
          "data": {
            "image/png": "[encoded data removed]",
            "text/plain": [
              "<Figure size 360x360 with 1 Axes>"
            ]
          },
          "metadata": {
            "tags": [],
            "needs_background": "light"
          }
        }
      ]
    },
    {
      "cell_type": "markdown",
      "metadata": {
        "id": "QD-yHSBA3tAx"
      },
      "source": [
        "Solamente de ver la histograma podemos concluir que nuestro resultado es de hecho bastante típico. Un gran número de modelos realizados totalmente al azar tuvieron valores iguales o más extremos que el que obtuvimos en nuestro experimento.\n",
        "\n",
        "Definimos como **hipótesis nula** que *la aleatoriedad afecta los resultados del A/B testing*.\n",
        "\n",
        "Por lo que la **hiótesis alternativa** es que *el resultado no es afectado por la aleatoriedad*.\n",
        "\n",
        "Vamos ahora a obtener el  p-value."
      ]
    },
    {
      "cell_type": "code",
      "metadata": {
        "id": "UjDWsFYO3tAx",
        "outputId": "40254552-c9db-43b2-ea9b-512b6ff2d3ca",
        "colab": {
          "base_uri": "https://localhost:8080/"
        }
      },
      "source": [
        "(perm_results['diff'] >= diferencia_en_proporcion).sum() / perm_results.shape[0]"
      ],
      "execution_count": 23,
      "outputs": [
        {
          "output_type": "execute_result",
          "data": {
            "text/plain": [
              "0.417"
            ]
          },
          "metadata": {
            "tags": []
          },
          "execution_count": 23
        }
      ]
    },
    {
      "cell_type": "markdown",
      "metadata": {
        "id": "acjx-F623tA0"
      },
      "source": [
        "Este valor quiere decir que el 41.7% de los test que hicimos obtuvieron un valor igual o más extremo que el obtenido en el experimento. Esto está extremadamente alejado de un Alfa de 5%, y por lo tanto definitivamente nuestro resultado **no es estadísticamente significativo**."
      ]
    },
    {
      "cell_type": "code",
      "metadata": {
        "id": "rf5zE3q93tA1"
      },
      "source": [
        ""
      ],
      "execution_count": 20,
      "outputs": []
    }
  ]
}