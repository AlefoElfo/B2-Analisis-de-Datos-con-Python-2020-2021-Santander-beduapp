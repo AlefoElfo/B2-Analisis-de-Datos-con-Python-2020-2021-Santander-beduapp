{
  "nbformat": 4,
  "nbformat_minor": 0,
  "metadata": {
    "kernelspec": {
      "display_name": "Python 3",
      "language": "python",
      "name": "python3"
    },
    "language_info": {
      "codemirror_mode": {
        "name": "ipython",
        "version": 3
      },
      "file_extension": ".py",
      "mimetype": "text/x-python",
      "name": "python",
      "nbconvert_exporter": "python",
      "pygments_lexer": "ipython3",
      "version": "3.8.5"
    },
    "colab": {
      "name": "nltk_freq_dist_y_visualizaciones.ipynb",
      "provenance": []
    }
  },
  "cells": [
    {
      "cell_type": "markdown",
      "metadata": {
        "id": "0Cu3DTekNE90"
      },
      "source": [
        "## Reto 3: Nltk FreqDist y Visualizaciones de NLP\n",
        "\n",
        "### 1. Objetivos:\n",
        "    - Aprender a realizar análisis estadístico de datos no estructurados utilizando FreqDist\n",
        "    - Utilizar seaborn para visualizar los análisis estadísticos que visualicemos\n",
        " \n",
        "---\n",
        "    \n",
        "### 2. Desarrollo:"
      ]
    },
    {
      "cell_type": "markdown",
      "metadata": {
        "id": "GAluaZfGNE94"
      },
      "source": [
        "Vamos a utilizar el objeto `FreqDist` para hacer análisis estadístico de las mismas evaluaciones que has utilizado en los últimos Retos. Intercalaremos análisis puramente numérico con visualizaciones realizadas con `seaborn` y `matplotlib` para hacer más claros nuestros hallazgos.\n",
        "\n",
        "Tu Reto consiste en lo siguiente:\n",
        "\n",
        "1. Tokeniza las evaluaciones y crea una sola lista que contenga todas las palabras en nuestro conjunto de datos.\n",
        "2. Utiliza el objeto `stopwords` encontrado en la librería `nltk.corpus` para filtrar todas las palabras vacías de tu conjunto de datos y solamente tener palabras relevantes.\n",
        "3. Crea un objeto `Text` con tu dataset resultante.\n",
        "4. Crea también un objeto `FreqDist` con el mismo dataset.\n",
        "5. Obtén las 20 palabras más comunes en el dataset y realiza una gráfica de barras 'verticales' para visualizar su frecuencia.\n",
        "6. Obtén una lista de las palabras que tengan 10 o más caracteres que aparezcan por lo menos 7 veces en el dataset.\n",
        "7. Genera una nube de palabras con tu dataset."
      ]
    }
  ]
}