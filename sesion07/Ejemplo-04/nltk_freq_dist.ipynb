{
  "cells": [
    {
      "cell_type": "markdown",
      "metadata": {
        "id": "3qOWK_GjVhp5"
      },
      "source": [
        "## Ejemplo 4: Nltk FreqDist\n",
        "\n",
        "### 1. Objetivos:\n",
        "    - Aprender a usar el objeto FreqDist de la librería Nltk\n",
        " \n",
        "---\n",
        "    \n",
        "### 2. Desarrollo:"
      ]
    },
    {
      "cell_type": "markdown",
      "metadata": {
        "id": "dltkq_KhVhp7"
      },
      "source": [
        "Ahora vamos a explorar el objeto `FreqDist` que nos facilita el conteo de frecuencias de las palabras en nuestro conjunto de datos. La primera parte del procesamiento es idéntico a la vez pasada."
      ]
    },
    {
      "cell_type": "code",
      "execution_count": 1,
      "metadata": {
        "id": "qNPOwHH8Vhp8"
      },
      "outputs": [],
      "source": [
        "import pandas as pd\n",
        "import nltk\n",
        "import seaborn as sns\n",
        "import matplotlib.pyplot as plt\n",
        "import numpy as np"
      ]
    },
    {
      "cell_type": "code",
      "source": [
        "nltk.download('punkt')\n",
        "nltk.download('stopwords')"
      ],
      "metadata": {
        "id": "F2tHXR7dVvWn",
        "outputId": "9e3229c7-c78f-4d9f-c72f-994470ce9796",
        "colab": {
          "base_uri": "https://localhost:8080/"
        }
      },
      "execution_count": 7,
      "outputs": [
        {
          "output_type": "stream",
          "name": "stderr",
          "text": [
            "[nltk_data] Downloading package punkt to /root/nltk_data...\n",
            "[nltk_data]   Unzipping tokenizers/punkt.zip.\n",
            "[nltk_data] Downloading package stopwords to /root/nltk_data...\n",
            "[nltk_data]   Unzipping corpora/stopwords.zip.\n"
          ]
        },
        {
          "output_type": "execute_result",
          "data": {
            "text/plain": [
              "True"
            ]
          },
          "metadata": {},
          "execution_count": 7
        }
      ]
    },
    {
      "cell_type": "code",
      "execution_count": 8,
      "metadata": {
        "id": "kZWpPo-mVhp9",
        "outputId": "2f57df71-20ab-463a-f1b2-ee22b2b37742",
        "colab": {
          "base_uri": "https://localhost:8080/",
          "height": 583
        }
      },
      "outputs": [
        {
          "output_type": "execute_result",
          "data": {
            "text/plain": [
              "                                  amazon_product_url  \\\n",
              "0  http://www.amazon.com/The-Host-Novel-Stephenie...   \n",
              "1  http://www.amazon.com/Love-Youre-With-Emily-Gi...   \n",
              "2  http://www.amazon.com/The-Front-Garano-Patrici...   \n",
              "3  http://www.amazon.com/Snuff-Chuck-Palahniuk/dp...   \n",
              "4  http://www.amazon.com/Sundays-at-Tiffanys-Jame...   \n",
              "\n",
              "                                     author  \\\n",
              "0                           Stephenie Meyer   \n",
              "1                              Emily Giffin   \n",
              "2                         Patricia Cornwell   \n",
              "3                           Chuck Palahniuk   \n",
              "4  James Patterson and Gabrielle Charbonnet   \n",
              "\n",
              "                                         description      publisher  \\\n",
              "0  Aliens have taken control of the minds and bod...  Little, Brown   \n",
              "1  A woman's happy marriage is shaken when she en...   St. Martin's   \n",
              "2  A Massachusetts state investigator and his tea...         Putnam   \n",
              "3  An aging porn queens aims to cap her career by...      Doubleday   \n",
              "4                   A woman finds an unexpected love  Little, Brown   \n",
              "\n",
              "                      title                       oid  \\\n",
              "0                  THE HOST  5b4aa4ead3089013507db18c   \n",
              "1  LOVE THE ONE YOU'RE WITH  5b4aa4ead3089013507db18d   \n",
              "2                 THE FRONT  5b4aa4ead3089013507db18e   \n",
              "3                     SNUFF  5b4aa4ead3089013507db18f   \n",
              "4      SUNDAYS AT TIFFANY’S  5b4aa4ead3089013507db190   \n",
              "\n",
              "   bestsellers_date.numberLong  published_date.numberLong  rank.numberInt  \\\n",
              "0                1211587200000              1212883200000               2   \n",
              "1                1211587200000              1212883200000               3   \n",
              "2                1211587200000              1212883200000               4   \n",
              "3                1211587200000              1212883200000               5   \n",
              "4                1211587200000              1212883200000               6   \n",
              "\n",
              "   rank_last_week.numberInt  weeks_on_list.numberInt  price.numberDouble  \n",
              "0                         1                        3               25.99  \n",
              "1                         2                        2               24.95  \n",
              "2                         0                        1               22.95  \n",
              "3                         0                        1               24.95  \n",
              "4                         3                        4               24.99  "
            ],
            "text/html": [
              "\n",
              "  <div id=\"df-05955f62-553d-4100-b874-52cdff1d50ca\">\n",
              "    <div class=\"colab-df-container\">\n",
              "      <div>\n",
              "<style scoped>\n",
              "    .dataframe tbody tr th:only-of-type {\n",
              "        vertical-align: middle;\n",
              "    }\n",
              "\n",
              "    .dataframe tbody tr th {\n",
              "        vertical-align: top;\n",
              "    }\n",
              "\n",
              "    .dataframe thead th {\n",
              "        text-align: right;\n",
              "    }\n",
              "</style>\n",
              "<table border=\"1\" class=\"dataframe\">\n",
              "  <thead>\n",
              "    <tr style=\"text-align: right;\">\n",
              "      <th></th>\n",
              "      <th>amazon_product_url</th>\n",
              "      <th>author</th>\n",
              "      <th>description</th>\n",
              "      <th>publisher</th>\n",
              "      <th>title</th>\n",
              "      <th>oid</th>\n",
              "      <th>bestsellers_date.numberLong</th>\n",
              "      <th>published_date.numberLong</th>\n",
              "      <th>rank.numberInt</th>\n",
              "      <th>rank_last_week.numberInt</th>\n",
              "      <th>weeks_on_list.numberInt</th>\n",
              "      <th>price.numberDouble</th>\n",
              "    </tr>\n",
              "  </thead>\n",
              "  <tbody>\n",
              "    <tr>\n",
              "      <th>0</th>\n",
              "      <td>http://www.amazon.com/The-Host-Novel-Stephenie...</td>\n",
              "      <td>Stephenie Meyer</td>\n",
              "      <td>Aliens have taken control of the minds and bod...</td>\n",
              "      <td>Little, Brown</td>\n",
              "      <td>THE HOST</td>\n",
              "      <td>5b4aa4ead3089013507db18c</td>\n",
              "      <td>1211587200000</td>\n",
              "      <td>1212883200000</td>\n",
              "      <td>2</td>\n",
              "      <td>1</td>\n",
              "      <td>3</td>\n",
              "      <td>25.99</td>\n",
              "    </tr>\n",
              "    <tr>\n",
              "      <th>1</th>\n",
              "      <td>http://www.amazon.com/Love-Youre-With-Emily-Gi...</td>\n",
              "      <td>Emily Giffin</td>\n",
              "      <td>A woman's happy marriage is shaken when she en...</td>\n",
              "      <td>St. Martin's</td>\n",
              "      <td>LOVE THE ONE YOU'RE WITH</td>\n",
              "      <td>5b4aa4ead3089013507db18d</td>\n",
              "      <td>1211587200000</td>\n",
              "      <td>1212883200000</td>\n",
              "      <td>3</td>\n",
              "      <td>2</td>\n",
              "      <td>2</td>\n",
              "      <td>24.95</td>\n",
              "    </tr>\n",
              "    <tr>\n",
              "      <th>2</th>\n",
              "      <td>http://www.amazon.com/The-Front-Garano-Patrici...</td>\n",
              "      <td>Patricia Cornwell</td>\n",
              "      <td>A Massachusetts state investigator and his tea...</td>\n",
              "      <td>Putnam</td>\n",
              "      <td>THE FRONT</td>\n",
              "      <td>5b4aa4ead3089013507db18e</td>\n",
              "      <td>1211587200000</td>\n",
              "      <td>1212883200000</td>\n",
              "      <td>4</td>\n",
              "      <td>0</td>\n",
              "      <td>1</td>\n",
              "      <td>22.95</td>\n",
              "    </tr>\n",
              "    <tr>\n",
              "      <th>3</th>\n",
              "      <td>http://www.amazon.com/Snuff-Chuck-Palahniuk/dp...</td>\n",
              "      <td>Chuck Palahniuk</td>\n",
              "      <td>An aging porn queens aims to cap her career by...</td>\n",
              "      <td>Doubleday</td>\n",
              "      <td>SNUFF</td>\n",
              "      <td>5b4aa4ead3089013507db18f</td>\n",
              "      <td>1211587200000</td>\n",
              "      <td>1212883200000</td>\n",
              "      <td>5</td>\n",
              "      <td>0</td>\n",
              "      <td>1</td>\n",
              "      <td>24.95</td>\n",
              "    </tr>\n",
              "    <tr>\n",
              "      <th>4</th>\n",
              "      <td>http://www.amazon.com/Sundays-at-Tiffanys-Jame...</td>\n",
              "      <td>James Patterson and Gabrielle Charbonnet</td>\n",
              "      <td>A woman finds an unexpected love</td>\n",
              "      <td>Little, Brown</td>\n",
              "      <td>SUNDAYS AT TIFFANY’S</td>\n",
              "      <td>5b4aa4ead3089013507db190</td>\n",
              "      <td>1211587200000</td>\n",
              "      <td>1212883200000</td>\n",
              "      <td>6</td>\n",
              "      <td>3</td>\n",
              "      <td>4</td>\n",
              "      <td>24.99</td>\n",
              "    </tr>\n",
              "  </tbody>\n",
              "</table>\n",
              "</div>\n",
              "      <button class=\"colab-df-convert\" onclick=\"convertToInteractive('df-05955f62-553d-4100-b874-52cdff1d50ca')\"\n",
              "              title=\"Convert this dataframe to an interactive table.\"\n",
              "              style=\"display:none;\">\n",
              "        \n",
              "  <svg xmlns=\"http://www.w3.org/2000/svg\" height=\"24px\"viewBox=\"0 0 24 24\"\n",
              "       width=\"24px\">\n",
              "    <path d=\"M0 0h24v24H0V0z\" fill=\"none\"/>\n",
              "    <path d=\"M18.56 5.44l.94 2.06.94-2.06 2.06-.94-2.06-.94-.94-2.06-.94 2.06-2.06.94zm-11 1L8.5 8.5l.94-2.06 2.06-.94-2.06-.94L8.5 2.5l-.94 2.06-2.06.94zm10 10l.94 2.06.94-2.06 2.06-.94-2.06-.94-.94-2.06-.94 2.06-2.06.94z\"/><path d=\"M17.41 7.96l-1.37-1.37c-.4-.4-.92-.59-1.43-.59-.52 0-1.04.2-1.43.59L10.3 9.45l-7.72 7.72c-.78.78-.78 2.05 0 2.83L4 21.41c.39.39.9.59 1.41.59.51 0 1.02-.2 1.41-.59l7.78-7.78 2.81-2.81c.8-.78.8-2.07 0-2.86zM5.41 20L4 18.59l7.72-7.72 1.47 1.35L5.41 20z\"/>\n",
              "  </svg>\n",
              "      </button>\n",
              "      \n",
              "  <style>\n",
              "    .colab-df-container {\n",
              "      display:flex;\n",
              "      flex-wrap:wrap;\n",
              "      gap: 12px;\n",
              "    }\n",
              "\n",
              "    .colab-df-convert {\n",
              "      background-color: #E8F0FE;\n",
              "      border: none;\n",
              "      border-radius: 50%;\n",
              "      cursor: pointer;\n",
              "      display: none;\n",
              "      fill: #1967D2;\n",
              "      height: 32px;\n",
              "      padding: 0 0 0 0;\n",
              "      width: 32px;\n",
              "    }\n",
              "\n",
              "    .colab-df-convert:hover {\n",
              "      background-color: #E2EBFA;\n",
              "      box-shadow: 0px 1px 2px rgba(60, 64, 67, 0.3), 0px 1px 3px 1px rgba(60, 64, 67, 0.15);\n",
              "      fill: #174EA6;\n",
              "    }\n",
              "\n",
              "    [theme=dark] .colab-df-convert {\n",
              "      background-color: #3B4455;\n",
              "      fill: #D2E3FC;\n",
              "    }\n",
              "\n",
              "    [theme=dark] .colab-df-convert:hover {\n",
              "      background-color: #434B5C;\n",
              "      box-shadow: 0px 1px 3px 1px rgba(0, 0, 0, 0.15);\n",
              "      filter: drop-shadow(0px 1px 2px rgba(0, 0, 0, 0.3));\n",
              "      fill: #FFFFFF;\n",
              "    }\n",
              "  </style>\n",
              "\n",
              "      <script>\n",
              "        const buttonEl =\n",
              "          document.querySelector('#df-05955f62-553d-4100-b874-52cdff1d50ca button.colab-df-convert');\n",
              "        buttonEl.style.display =\n",
              "          google.colab.kernel.accessAllowed ? 'block' : 'none';\n",
              "\n",
              "        async function convertToInteractive(key) {\n",
              "          const element = document.querySelector('#df-05955f62-553d-4100-b874-52cdff1d50ca');\n",
              "          const dataTable =\n",
              "            await google.colab.kernel.invokeFunction('convertToInteractive',\n",
              "                                                     [key], {});\n",
              "          if (!dataTable) return;\n",
              "\n",
              "          const docLinkHtml = 'Like what you see? Visit the ' +\n",
              "            '<a target=\"_blank\" href=https://colab.research.google.com/notebooks/data_table.ipynb>data table notebook</a>'\n",
              "            + ' to learn more about interactive tables.';\n",
              "          element.innerHTML = '';\n",
              "          dataTable['output_type'] = 'display_data';\n",
              "          await google.colab.output.renderOutput(dataTable, element);\n",
              "          const docLink = document.createElement('div');\n",
              "          docLink.innerHTML = docLinkHtml;\n",
              "          element.appendChild(docLink);\n",
              "        }\n",
              "      </script>\n",
              "    </div>\n",
              "  </div>\n",
              "  "
            ]
          },
          "metadata": {},
          "execution_count": 8
        }
      ],
      "source": [
        "df = pd.read_json('https://raw.githubusercontent.com/jaeem006/beduadp/master/Datasets/new_york_times_bestsellers-clean.json')\n",
        "\n",
        "df.head()"
      ]
    },
    {
      "cell_type": "code",
      "execution_count": 9,
      "metadata": {
        "id": "CMCtB4cgVhp9",
        "outputId": "08e6f50c-7fe9-490a-d91f-6ba69ce08bce",
        "colab": {
          "base_uri": "https://localhost:8080/"
        }
      },
      "outputs": [
        {
          "output_type": "execute_result",
          "data": {
            "text/plain": [
              "title\n",
              "10TH ANNIVERSARY            Detective Lindsay Boxer and the Women’s Murder...\n",
              "11TH HOUR                   Detective Lindsay Boxer and the Women’s Murder...\n",
              "1225 CHRISTMAS TREE LANE    Puppies and an ex-husband loom large in the la...\n",
              "1356                        In the fourth book of the Grail Quest series, ...\n",
              "1Q84                        In 1980s Tokyo, a woman who punishes perpetrat...\n",
              "                                                  ...                        \n",
              "Z                           A novel based on the lives of Zelda and F. Sco...\n",
              "ZERO DAY                       A military investigator uncovers a conspiracy.\n",
              "ZERO HISTORY                Several characters from “Spook Country” return...\n",
              "ZONE ONE                      Fighting zombies in post-apocalyptic Manhattan.\n",
              "ZOO                         A young biologist warns world leaders about th...\n",
              "Name: description, Length: 754, dtype: object"
            ]
          },
          "metadata": {},
          "execution_count": 9
        }
      ],
      "source": [
        "grouped_by_title = df.groupby('title')['description'].max()\n",
        "\n",
        "grouped_by_title"
      ]
    },
    {
      "cell_type": "markdown",
      "metadata": {
        "id": "HQJwXzmKVhp9"
      },
      "source": [
        "Primero hay que limpiar un poco nuestros textos:"
      ]
    },
    {
      "cell_type": "code",
      "execution_count": 10,
      "metadata": {
        "id": "cySok5wuVhp-",
        "outputId": "bb031647-3eaa-4be1-bc72-de8b036e6330",
        "colab": {
          "base_uri": "https://localhost:8080/"
        }
      },
      "outputs": [
        {
          "output_type": "stream",
          "name": "stderr",
          "text": [
            "/usr/local/lib/python3.7/dist-packages/ipykernel_launcher.py:3: FutureWarning: The default value of regex will change from True to False in a future version.\n",
            "  This is separate from the ipykernel package so we can avoid doing imports until\n",
            "/usr/local/lib/python3.7/dist-packages/ipykernel_launcher.py:4: FutureWarning: The default value of regex will change from True to False in a future version.\n",
            "  after removing the cwd from sys.path.\n",
            "/usr/local/lib/python3.7/dist-packages/ipykernel_launcher.py:5: FutureWarning: The default value of regex will change from True to False in a future version.\n",
            "  \"\"\"\n"
          ]
        },
        {
          "output_type": "execute_result",
          "data": {
            "text/plain": [
              "title\n",
              "10TH ANNIVERSARY            detective lindsay boxer and the womens murder ...\n",
              "11TH HOUR                   detective lindsay boxer and the womens murder ...\n",
              "1225 CHRISTMAS TREE LANE    puppies and an exhusband loom large in the las...\n",
              "1356                        in the fourth book of the grail quest series t...\n",
              "1Q84                        in s tokyo a woman who punishes perpetrators o...\n",
              "                                                  ...                        \n",
              "Z                           a novel based on the lives of zelda and f scot...\n",
              "ZERO DAY                        a military investigator uncovers a conspiracy\n",
              "ZERO HISTORY                several characters from spook country return t...\n",
              "ZONE ONE                        fighting zombies in postapocalyptic manhattan\n",
              "ZOO                         a young biologist warns world leaders about th...\n",
              "Name: description, Length: 754, dtype: object"
            ]
          },
          "metadata": {},
          "execution_count": 10
        }
      ],
      "source": [
        "grouped_by_title = grouped_by_title.str.lower()\n",
        "grouped_by_title = grouped_by_title.str.strip()\n",
        "grouped_by_title = grouped_by_title.str.replace('[^\\w\\s]', '')\n",
        "grouped_by_title = grouped_by_title.str.replace('\\d', '')\n",
        "grouped_by_title = grouped_by_title.str.replace('\\\\n', '')\n",
        "grouped_by_title = grouped_by_title.dropna()\n",
        "\n",
        "grouped_by_title"
      ]
    },
    {
      "cell_type": "code",
      "execution_count": 12,
      "metadata": {
        "id": "7mn1WbebVhp-"
      },
      "outputs": [],
      "source": [
        "# Separamos cada oración en palabras\n",
        "\n",
        "tokenized = grouped_by_title.apply(nltk.word_tokenize)"
      ]
    },
    {
      "cell_type": "code",
      "execution_count": 13,
      "metadata": {
        "id": "70bVmtmhVhp_",
        "outputId": "4e3968fd-f7f4-4ec7-b617-2e4aaac599ca",
        "colab": {
          "base_uri": "https://localhost:8080/"
        }
      },
      "outputs": [
        {
          "output_type": "execute_result",
          "data": {
            "text/plain": [
              "title\n",
              "10TH ANNIVERSARY            [detective, lindsay, boxer, and, the, womens, ...\n",
              "11TH HOUR                   [detective, lindsay, boxer, and, the, womens, ...\n",
              "1225 CHRISTMAS TREE LANE    [puppies, and, an, exhusband, loom, large, in,...\n",
              "1356                        [in, the, fourth, book, of, the, grail, quest,...\n",
              "1Q84                        [in, s, tokyo, a, woman, who, punishes, perpet...\n",
              "                                                  ...                        \n",
              "Z                           [a, novel, based, on, the, lives, of, zelda, a...\n",
              "ZERO DAY                    [a, military, investigator, uncovers, a, consp...\n",
              "ZERO HISTORY                [several, characters, from, spook, country, re...\n",
              "ZONE ONE                    [fighting, zombies, in, postapocalyptic, manha...\n",
              "ZOO                         [a, young, biologist, warns, world, leaders, a...\n",
              "Name: description, Length: 754, dtype: object"
            ]
          },
          "metadata": {},
          "execution_count": 13
        }
      ],
      "source": [
        "tokenized"
      ]
    },
    {
      "cell_type": "code",
      "execution_count": 14,
      "metadata": {
        "id": "Vcq0u4Z8Vhp_"
      },
      "outputs": [],
      "source": [
        "all_words = tokenized.sum()"
      ]
    },
    {
      "cell_type": "code",
      "execution_count": 15,
      "metadata": {
        "id": "t2BPDg8bVhp_",
        "outputId": "6f5381e5-04d2-46f8-e8d4-285c0124dcd8",
        "colab": {
          "base_uri": "https://localhost:8080/"
        }
      },
      "outputs": [
        {
          "output_type": "stream",
          "name": "stdout",
          "text": [
            "<FreqDist with 3161 samples and 12569 outcomes>\n"
          ]
        }
      ],
      "source": [
        "# Utilizamos FreqDist para analizar la distribución de frecuencia de nuestras palabras\n",
        "\n",
        "freq_dist = nltk.FreqDist(all_words)\n",
        "\n",
        "print(freq_dist)"
      ]
    },
    {
      "cell_type": "code",
      "execution_count": 16,
      "metadata": {
        "id": "VuBNLdhoVhp_",
        "outputId": "e4685dfb-d1ba-4415-c6ac-83ff1bc2b45c",
        "colab": {
          "base_uri": "https://localhost:8080/"
        }
      },
      "outputs": [
        {
          "output_type": "execute_result",
          "data": {
            "text/plain": [
              "[('a', 917),\n",
              " ('the', 778),\n",
              " ('of', 417),\n",
              " ('in', 364),\n",
              " ('to', 283),\n",
              " ('and', 280),\n",
              " ('an', 149),\n",
              " ('her', 137),\n",
              " ('is', 127),\n",
              " ('his', 123),\n",
              " ('who', 107),\n",
              " ('for', 102),\n",
              " ('with', 93),\n",
              " ('on', 71),\n",
              " ('from', 70),\n",
              " ('by', 68),\n",
              " ('series', 61),\n",
              " ('new', 61),\n",
              " ('woman', 60),\n",
              " ('that', 60),\n",
              " ('book', 57),\n",
              " ('detective', 52),\n",
              " ('murder', 51),\n",
              " ('novel', 49),\n",
              " ('when', 46),\n",
              " ('as', 42),\n",
              " ('killer', 41),\n",
              " ('at', 40),\n",
              " ('must', 39),\n",
              " ('has', 38),\n",
              " ('investigates', 38),\n",
              " ('young', 35),\n",
              " ('man', 35),\n",
              " ('life', 32),\n",
              " ('former', 32),\n",
              " ('she', 31),\n",
              " ('about', 30),\n",
              " ('their', 29),\n",
              " ('are', 28),\n",
              " ('war', 27),\n",
              " ('after', 27),\n",
              " ('family', 26),\n",
              " ('york', 26),\n",
              " ('two', 25),\n",
              " ('death', 25),\n",
              " ('world', 24),\n",
              " ('this', 24),\n",
              " ('agent', 24),\n",
              " ('into', 23),\n",
              " ('he', 23)]"
            ]
          },
          "metadata": {},
          "execution_count": 16
        }
      ],
      "source": [
        "freq_dist.most_common(50)"
      ]
    },
    {
      "cell_type": "markdown",
      "metadata": {
        "id": "8N19HUqhVhqA"
      },
      "source": [
        "Vamos a eliminar las 'palabras vacías' o 'stop words'\n",
        "\n",
        "Para hacer esto tienes que correr primero el siguiente comando:\n",
        "\n",
        "`nltk.download('stopwords')`"
      ]
    },
    {
      "cell_type": "code",
      "execution_count": 17,
      "metadata": {
        "id": "fcwxcV8TVhqA"
      },
      "outputs": [],
      "source": [
        "from nltk.corpus import stopwords"
      ]
    },
    {
      "cell_type": "code",
      "execution_count": 18,
      "metadata": {
        "id": "33ZJCEkCVhqA"
      },
      "outputs": [],
      "source": [
        "english_stop_words = stopwords.words('english')\n",
        "\n",
        "all_words_except_stop_words = [word for word in all_words if word not in english_stop_words]\n",
        "\n",
        "freq_dist_no_stop_words = nltk.FreqDist(all_words_except_stop_words)"
      ]
    },
    {
      "cell_type": "code",
      "execution_count": 19,
      "metadata": {
        "id": "lizhOMbIVhqA",
        "outputId": "a05fbcce-aceb-4d80-bf67-b07cf04f37ac",
        "colab": {
          "base_uri": "https://localhost:8080/"
        }
      },
      "outputs": [
        {
          "output_type": "execute_result",
          "data": {
            "text/plain": [
              "[('series', 61),\n",
              " ('new', 61),\n",
              " ('woman', 60),\n",
              " ('book', 57),\n",
              " ('detective', 52),\n",
              " ('murder', 51),\n",
              " ('novel', 49),\n",
              " ('killer', 41),\n",
              " ('must', 39),\n",
              " ('investigates', 38),\n",
              " ('young', 35),\n",
              " ('man', 35),\n",
              " ('life', 32),\n",
              " ('former', 32),\n",
              " ('war', 27),\n",
              " ('family', 26),\n",
              " ('york', 26),\n",
              " ('two', 25),\n",
              " ('death', 25),\n",
              " ('world', 24),\n",
              " ('agent', 24),\n",
              " ('cia', 22),\n",
              " ('love', 22),\n",
              " ('secret', 21),\n",
              " ('discovers', 21),\n",
              " ('lawyer', 20),\n",
              " ('murdered', 20),\n",
              " ('finds', 20),\n",
              " ('eve', 19),\n",
              " ('th', 19),\n",
              " ('mother', 19),\n",
              " ('case', 19),\n",
              " ('women', 19),\n",
              " ('wife', 19),\n",
              " ('serial', 18),\n",
              " ('first', 18),\n",
              " ('secrets', 18),\n",
              " ('pursues', 18),\n",
              " ('investigator', 18),\n",
              " ('operative', 18),\n",
              " ('missing', 17),\n",
              " ('search', 17),\n",
              " ('searches', 17),\n",
              " ('help', 17),\n",
              " ('fbi', 17),\n",
              " ('stone', 17),\n",
              " ('years', 17),\n",
              " ('girl', 17),\n",
              " ('investigate', 16),\n",
              " ('one', 16)]"
            ]
          },
          "metadata": {},
          "execution_count": 19
        }
      ],
      "source": [
        "freq_dist_no_stop_words.most_common(50)"
      ]
    },
    {
      "cell_type": "code",
      "execution_count": 20,
      "metadata": {
        "id": "TA2WiwpFVhqA",
        "outputId": "15c49b8b-9998-4b80-9a2a-523d570ff513",
        "colab": {
          "base_uri": "https://localhost:8080/"
        }
      },
      "outputs": [
        {
          "output_type": "stream",
          "name": "stdout",
          "text": [
            "0.786%\n"
          ]
        }
      ],
      "source": [
        "# Conteo de una palabra y porcentaje de aparición\n",
        "\n",
        "print(f'{(100 * freq_dist_no_stop_words[\"woman\"] / len(all_words_except_stop_words)):.3f}%')"
      ]
    },
    {
      "cell_type": "code",
      "execution_count": 21,
      "metadata": {
        "id": "1dLGYESiVhqB",
        "outputId": "6b4951a7-2121-4bd9-f882-9691f56c43a8",
        "colab": {
          "base_uri": "https://localhost:8080/",
          "height": 331
        }
      },
      "outputs": [
        {
          "output_type": "display_data",
          "data": {
            "text/plain": [
              "<Figure size 432x288 with 1 Axes>"
            ],
            "image/png": "[encoded data removed]"
          },
          "metadata": {
            "needs_background": "light"
          }
        }
      ],
      "source": [
        "# Veamos qué proporción del text está siendo ocupada por las 50 palabras más comunes\n",
        "\n",
        "freq_dist_no_stop_words.plot(50, cumulative=True);"
      ]
    },
    {
      "cell_type": "code",
      "execution_count": 22,
      "metadata": {
        "id": "AINxuBBuVhqB",
        "outputId": "c2e47241-70f9-49e4-c24e-b60e6c905324",
        "colab": {
          "base_uri": "https://localhost:8080/"
        }
      },
      "outputs": [
        {
          "output_type": "execute_result",
          "data": {
            "text/plain": [
              "['puppies',\n",
              " 'loom',\n",
              " 'last',\n",
              " 'grail',\n",
              " 'poitiers',\n",
              " 'tokyo',\n",
              " 'punishes',\n",
              " 'domestic',\n",
              " 'aspiring',\n",
              " 'resent',\n",
              " 'draining',\n",
              " 'weakening',\n",
              " 'economy',\n",
              " 'earthquake',\n",
              " 'tests',\n",
              " 'countrys',\n",
              " 'jewish',\n",
              " 'mishandling',\n",
              " 'pregnant',\n",
              " 'shows']"
            ]
          },
          "metadata": {},
          "execution_count": 22
        }
      ],
      "source": [
        "# Palabras que sólo aparecen una sola vez\n",
        "\n",
        "freq_dist_no_stop_words.hapaxes()[:20]"
      ]
    },
    {
      "cell_type": "code",
      "execution_count": 23,
      "metadata": {
        "id": "AOdSlECPVhqB",
        "outputId": "e9e93415-a8d3-4399-c4ee-d336f9bf470f",
        "colab": {
          "base_uri": "https://localhost:8080/"
        }
      },
      "outputs": [
        {
          "output_type": "execute_result",
          "data": {
            "text/plain": [
              "0                   danger\n",
              "1                   harlem\n",
              "2       turnofthethcentury\n",
              "3                   dakota\n",
              "4                   friend\n",
              "               ...        \n",
              "3060            snowdancer\n",
              "3061                 maine\n",
              "3062                   foe\n",
              "3063                 males\n",
              "3064               embarks\n",
              "Length: 3065, dtype: object"
            ]
          },
          "metadata": {},
          "execution_count": 23
        }
      ],
      "source": [
        "# Palabras largas\n",
        "\n",
        "unique = set(all_words_except_stop_words)\n",
        "unique_series = pd.Series(list(unique))\n",
        "\n",
        "unique_series"
      ]
    },
    {
      "cell_type": "code",
      "execution_count": 24,
      "metadata": {
        "id": "jSwsACvaVhqB",
        "outputId": "e9ba2293-3397-47c6-8858-b4fce9705bf6",
        "colab": {
          "base_uri": "https://localhost:8080/"
        }
      },
      "outputs": [
        {
          "output_type": "execute_result",
          "data": {
            "text/plain": [
              "2       turnofthethcentury\n",
              "64        publicityseeking\n",
              "80        mountainclimbing\n",
              "328      multigenerational\n",
              "827       postthanksgiving\n",
              "1297     suicidebyaccident\n",
              "1793      counterterrorism\n",
              "1898      dissatisfactions\n",
              "2583      autobiographical\n",
              "3003      singersongwriter\n",
              "dtype: object"
            ]
          },
          "metadata": {},
          "execution_count": 24
        }
      ],
      "source": [
        "unique_series[unique_series.str.len() > 15]"
      ]
    },
    {
      "cell_type": "code",
      "execution_count": 25,
      "metadata": {
        "id": "IoA_vXe5VhqB",
        "outputId": "016cee4d-91d5-4f5a-cac3-8b4775d798e3",
        "colab": {
          "base_uri": "https://localhost:8080/"
        }
      },
      "outputs": [
        {
          "output_type": "execute_result",
          "data": {
            "text/plain": [
              "37            american\n",
              "66            intrigue\n",
              "118         washington\n",
              "396          discovers\n",
              "528        investigate\n",
              "676          dangerous\n",
              "799           murdered\n",
              "817          operative\n",
              "946           reporter\n",
              "1033          searches\n",
              "1239          forensic\n",
              "1251          assassin\n",
              "1273      investigates\n",
              "1370    pseudonymously\n",
              "1412          carolina\n",
              "1483        barrington\n",
              "1563        characters\n",
              "1666         manhattan\n",
              "1690         daughters\n",
              "1731          together\n",
              "1861     investigation\n",
              "1887          involved\n",
              "1924     disappearance\n",
              "2317      investigator\n",
              "2342        mysterious\n",
              "2628        paranormal\n",
              "2684          daughter\n",
              "2772         detective\n",
              "2802         terrorist\n",
              "3053         character\n",
              "dtype: object"
            ]
          },
          "metadata": {},
          "execution_count": 25
        }
      ],
      "source": [
        "# Palabras largas que son frecuentes\n",
        "\n",
        "larger_than_10 = unique_series.str.len() > 7\n",
        "is_frequent = unique_series.apply(lambda x: freq_dist_no_stop_words[x] > 7)\n",
        "\n",
        "unique_series[larger_than_10 & is_frequent]"
      ]
    },
    {
      "cell_type": "code",
      "execution_count": 26,
      "metadata": {
        "id": "23umW4AgVhqB"
      },
      "outputs": [],
      "source": [
        "# Podemos contar otras cosas, como la frecuencia de longitudes de nuestras palabras\n",
        "\n",
        "freq_dist_lengths = nltk.FreqDist([len(w) for w in all_words_except_stop_words])"
      ]
    },
    {
      "cell_type": "code",
      "execution_count": 27,
      "metadata": {
        "id": "l-M_PlD4VhqC",
        "outputId": "c1dc93c8-d189-41b1-9437-d201216aa6d3",
        "colab": {
          "base_uri": "https://localhost:8080/"
        }
      },
      "outputs": [
        {
          "output_type": "execute_result",
          "data": {
            "text/plain": [
              "[(5, 1382),\n",
              " (6, 1364),\n",
              " (7, 1212),\n",
              " (4, 1051),\n",
              " (8, 707),\n",
              " (9, 586),\n",
              " (3, 471),\n",
              " (10, 354),\n",
              " (11, 164),\n",
              " (12, 157),\n",
              " (2, 60),\n",
              " (13, 60),\n",
              " (14, 30),\n",
              " (16, 11),\n",
              " (15, 11),\n",
              " (1, 8),\n",
              " (17, 2),\n",
              " (18, 1)]"
            ]
          },
          "metadata": {},
          "execution_count": 27
        }
      ],
      "source": [
        "freq_dist_lengths.most_common()"
      ]
    },
    {
      "cell_type": "code",
      "execution_count": 28,
      "metadata": {
        "id": "ZwRztosOVhqC",
        "outputId": "bd6309a2-7f90-4d96-dd85-135d873d032b",
        "colab": {
          "base_uri": "https://localhost:8080/"
        }
      },
      "outputs": [
        {
          "output_type": "execute_result",
          "data": {
            "text/plain": [
              "5"
            ]
          },
          "metadata": {},
          "execution_count": 28
        }
      ],
      "source": [
        "freq_dist_lengths.max()"
      ]
    },
    {
      "cell_type": "code",
      "execution_count": 29,
      "metadata": {
        "id": "OxuKoIwVVhqC",
        "outputId": "1e50ac30-9262-4d11-f868-3095fd768cdf",
        "colab": {
          "base_uri": "https://localhost:8080/"
        }
      },
      "outputs": [
        {
          "output_type": "execute_result",
          "data": {
            "text/plain": [
              "1382"
            ]
          },
          "metadata": {},
          "execution_count": 29
        }
      ],
      "source": [
        "freq_dist_lengths[5]"
      ]
    },
    {
      "cell_type": "code",
      "execution_count": 30,
      "metadata": {
        "id": "pGPW9ZI5VhqC",
        "outputId": "507c03cc-fac9-4a3b-d729-02bb4178a391",
        "colab": {
          "base_uri": "https://localhost:8080/"
        }
      },
      "outputs": [
        {
          "output_type": "execute_result",
          "data": {
            "text/plain": [
              "0.18110339405058315"
            ]
          },
          "metadata": {},
          "execution_count": 30
        }
      ],
      "source": [
        "# También podemos saber qué proporción del total de palabras tiene longitud de 5\n",
        "\n",
        "freq_dist_lengths.freq(5)"
      ]
    }
  ],
  "metadata": {
    "kernelspec": {
      "display_name": "Python (data_science)",
      "language": "python",
      "name": "data_science"
    },
    "language_info": {
      "codemirror_mode": {
        "name": "ipython",
        "version": 3
      },
      "file_extension": ".py",
      "mimetype": "text/x-python",
      "name": "python",
      "nbconvert_exporter": "python",
      "pygments_lexer": "ipython3",
      "version": "3.8.5"
    },
    "colab": {
      "provenance": []
    }
  },
  "nbformat": 4,
  "nbformat_minor": 0
}