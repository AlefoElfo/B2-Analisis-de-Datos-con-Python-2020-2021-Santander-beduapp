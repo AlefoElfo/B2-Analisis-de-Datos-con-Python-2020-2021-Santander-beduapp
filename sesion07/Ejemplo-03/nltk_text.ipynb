{
  "cells": [
    {
      "cell_type": "markdown",
      "metadata": {
        "id": "q_Gzx8p5UVxi"
      },
      "source": [
        "## Ejemplo 3: Nltk Text\n",
        "\n",
        "### 1. Objetivos:\n",
        "    - Aprender a usar el objeto Text de la biblioteca Nltk\n",
        " \n",
        "---\n",
        "    \n",
        "### 2. Desarrollo:"
      ]
    },
    {
      "cell_type": "markdown",
      "metadata": {
        "id": "OtCecV6aUVxk"
      },
      "source": [
        "Vamos a utilizar la biblioteca Nltk para explorar algunas técnicas básicas de procesamiento de lenguaje natural. Muchos de estos procedimientos normalmente sirven para preparar nuestros datos para entrenar un modelo o para realizar una visualización."
      ]
    },
    {
      "cell_type": "code",
      "execution_count": 1,
      "metadata": {
        "id": "rOF7vPiJUVxl"
      },
      "outputs": [],
      "source": [
        "import pandas as pd\n",
        "import nltk\n",
        "import seaborn as sns\n",
        "import matplotlib.pyplot as plt\n",
        "import numpy as np"
      ]
    },
    {
      "cell_type": "code",
      "execution_count": 2,
      "metadata": {
        "id": "KfnYfku4UVxl",
        "outputId": "168c1957-c62b-4a9a-a9f3-a2814e052090",
        "colab": {
          "base_uri": "https://localhost:8080/",
          "height": 583
        }
      },
      "outputs": [
        {
          "output_type": "execute_result",
          "data": {
            "text/plain": [
              "                                  amazon_product_url  \\\n",
              "0  http://www.amazon.com/The-Host-Novel-Stephenie...   \n",
              "1  http://www.amazon.com/Love-Youre-With-Emily-Gi...   \n",
              "2  http://www.amazon.com/The-Front-Garano-Patrici...   \n",
              "3  http://www.amazon.com/Snuff-Chuck-Palahniuk/dp...   \n",
              "4  http://www.amazon.com/Sundays-at-Tiffanys-Jame...   \n",
              "\n",
              "                                     author  \\\n",
              "0                           Stephenie Meyer   \n",
              "1                              Emily Giffin   \n",
              "2                         Patricia Cornwell   \n",
              "3                           Chuck Palahniuk   \n",
              "4  James Patterson and Gabrielle Charbonnet   \n",
              "\n",
              "                                         description      publisher  \\\n",
              "0  Aliens have taken control of the minds and bod...  Little, Brown   \n",
              "1  A woman's happy marriage is shaken when she en...   St. Martin's   \n",
              "2  A Massachusetts state investigator and his tea...         Putnam   \n",
              "3  An aging porn queens aims to cap her career by...      Doubleday   \n",
              "4                   A woman finds an unexpected love  Little, Brown   \n",
              "\n",
              "                      title                       oid  \\\n",
              "0                  THE HOST  5b4aa4ead3089013507db18c   \n",
              "1  LOVE THE ONE YOU'RE WITH  5b4aa4ead3089013507db18d   \n",
              "2                 THE FRONT  5b4aa4ead3089013507db18e   \n",
              "3                     SNUFF  5b4aa4ead3089013507db18f   \n",
              "4      SUNDAYS AT TIFFANY’S  5b4aa4ead3089013507db190   \n",
              "\n",
              "   bestsellers_date.numberLong  published_date.numberLong  rank.numberInt  \\\n",
              "0                1211587200000              1212883200000               2   \n",
              "1                1211587200000              1212883200000               3   \n",
              "2                1211587200000              1212883200000               4   \n",
              "3                1211587200000              1212883200000               5   \n",
              "4                1211587200000              1212883200000               6   \n",
              "\n",
              "   rank_last_week.numberInt  weeks_on_list.numberInt  price.numberDouble  \n",
              "0                         1                        3               25.99  \n",
              "1                         2                        2               24.95  \n",
              "2                         0                        1               22.95  \n",
              "3                         0                        1               24.95  \n",
              "4                         3                        4               24.99  "
            ],
            "text/html": [
              "\n",
              "  <div id=\"df-f093a576-c484-493c-936a-516c40513c5b\">\n",
              "    <div class=\"colab-df-container\">\n",
              "      <div>\n",
              "<style scoped>\n",
              "    .dataframe tbody tr th:only-of-type {\n",
              "        vertical-align: middle;\n",
              "    }\n",
              "\n",
              "    .dataframe tbody tr th {\n",
              "        vertical-align: top;\n",
              "    }\n",
              "\n",
              "    .dataframe thead th {\n",
              "        text-align: right;\n",
              "    }\n",
              "</style>\n",
              "<table border=\"1\" class=\"dataframe\">\n",
              "  <thead>\n",
              "    <tr style=\"text-align: right;\">\n",
              "      <th></th>\n",
              "      <th>amazon_product_url</th>\n",
              "      <th>author</th>\n",
              "      <th>description</th>\n",
              "      <th>publisher</th>\n",
              "      <th>title</th>\n",
              "      <th>oid</th>\n",
              "      <th>bestsellers_date.numberLong</th>\n",
              "      <th>published_date.numberLong</th>\n",
              "      <th>rank.numberInt</th>\n",
              "      <th>rank_last_week.numberInt</th>\n",
              "      <th>weeks_on_list.numberInt</th>\n",
              "      <th>price.numberDouble</th>\n",
              "    </tr>\n",
              "  </thead>\n",
              "  <tbody>\n",
              "    <tr>\n",
              "      <th>0</th>\n",
              "      <td>http://www.amazon.com/The-Host-Novel-Stephenie...</td>\n",
              "      <td>Stephenie Meyer</td>\n",
              "      <td>Aliens have taken control of the minds and bod...</td>\n",
              "      <td>Little, Brown</td>\n",
              "      <td>THE HOST</td>\n",
              "      <td>5b4aa4ead3089013507db18c</td>\n",
              "      <td>1211587200000</td>\n",
              "      <td>1212883200000</td>\n",
              "      <td>2</td>\n",
              "      <td>1</td>\n",
              "      <td>3</td>\n",
              "      <td>25.99</td>\n",
              "    </tr>\n",
              "    <tr>\n",
              "      <th>1</th>\n",
              "      <td>http://www.amazon.com/Love-Youre-With-Emily-Gi...</td>\n",
              "      <td>Emily Giffin</td>\n",
              "      <td>A woman's happy marriage is shaken when she en...</td>\n",
              "      <td>St. Martin's</td>\n",
              "      <td>LOVE THE ONE YOU'RE WITH</td>\n",
              "      <td>5b4aa4ead3089013507db18d</td>\n",
              "      <td>1211587200000</td>\n",
              "      <td>1212883200000</td>\n",
              "      <td>3</td>\n",
              "      <td>2</td>\n",
              "      <td>2</td>\n",
              "      <td>24.95</td>\n",
              "    </tr>\n",
              "    <tr>\n",
              "      <th>2</th>\n",
              "      <td>http://www.amazon.com/The-Front-Garano-Patrici...</td>\n",
              "      <td>Patricia Cornwell</td>\n",
              "      <td>A Massachusetts state investigator and his tea...</td>\n",
              "      <td>Putnam</td>\n",
              "      <td>THE FRONT</td>\n",
              "      <td>5b4aa4ead3089013507db18e</td>\n",
              "      <td>1211587200000</td>\n",
              "      <td>1212883200000</td>\n",
              "      <td>4</td>\n",
              "      <td>0</td>\n",
              "      <td>1</td>\n",
              "      <td>22.95</td>\n",
              "    </tr>\n",
              "    <tr>\n",
              "      <th>3</th>\n",
              "      <td>http://www.amazon.com/Snuff-Chuck-Palahniuk/dp...</td>\n",
              "      <td>Chuck Palahniuk</td>\n",
              "      <td>An aging porn queens aims to cap her career by...</td>\n",
              "      <td>Doubleday</td>\n",
              "      <td>SNUFF</td>\n",
              "      <td>5b4aa4ead3089013507db18f</td>\n",
              "      <td>1211587200000</td>\n",
              "      <td>1212883200000</td>\n",
              "      <td>5</td>\n",
              "      <td>0</td>\n",
              "      <td>1</td>\n",
              "      <td>24.95</td>\n",
              "    </tr>\n",
              "    <tr>\n",
              "      <th>4</th>\n",
              "      <td>http://www.amazon.com/Sundays-at-Tiffanys-Jame...</td>\n",
              "      <td>James Patterson and Gabrielle Charbonnet</td>\n",
              "      <td>A woman finds an unexpected love</td>\n",
              "      <td>Little, Brown</td>\n",
              "      <td>SUNDAYS AT TIFFANY’S</td>\n",
              "      <td>5b4aa4ead3089013507db190</td>\n",
              "      <td>1211587200000</td>\n",
              "      <td>1212883200000</td>\n",
              "      <td>6</td>\n",
              "      <td>3</td>\n",
              "      <td>4</td>\n",
              "      <td>24.99</td>\n",
              "    </tr>\n",
              "  </tbody>\n",
              "</table>\n",
              "</div>\n",
              "      <button class=\"colab-df-convert\" onclick=\"convertToInteractive('df-f093a576-c484-493c-936a-516c40513c5b')\"\n",
              "              title=\"Convert this dataframe to an interactive table.\"\n",
              "              style=\"display:none;\">\n",
              "        \n",
              "  <svg xmlns=\"http://www.w3.org/2000/svg\" height=\"24px\"viewBox=\"0 0 24 24\"\n",
              "       width=\"24px\">\n",
              "    <path d=\"M0 0h24v24H0V0z\" fill=\"none\"/>\n",
              "    <path d=\"M18.56 5.44l.94 2.06.94-2.06 2.06-.94-2.06-.94-.94-2.06-.94 2.06-2.06.94zm-11 1L8.5 8.5l.94-2.06 2.06-.94-2.06-.94L8.5 2.5l-.94 2.06-2.06.94zm10 10l.94 2.06.94-2.06 2.06-.94-2.06-.94-.94-2.06-.94 2.06-2.06.94z\"/><path d=\"M17.41 7.96l-1.37-1.37c-.4-.4-.92-.59-1.43-.59-.52 0-1.04.2-1.43.59L10.3 9.45l-7.72 7.72c-.78.78-.78 2.05 0 2.83L4 21.41c.39.39.9.59 1.41.59.51 0 1.02-.2 1.41-.59l7.78-7.78 2.81-2.81c.8-.78.8-2.07 0-2.86zM5.41 20L4 18.59l7.72-7.72 1.47 1.35L5.41 20z\"/>\n",
              "  </svg>\n",
              "      </button>\n",
              "      \n",
              "  <style>\n",
              "    .colab-df-container {\n",
              "      display:flex;\n",
              "      flex-wrap:wrap;\n",
              "      gap: 12px;\n",
              "    }\n",
              "\n",
              "    .colab-df-convert {\n",
              "      background-color: #E8F0FE;\n",
              "      border: none;\n",
              "      border-radius: 50%;\n",
              "      cursor: pointer;\n",
              "      display: none;\n",
              "      fill: #1967D2;\n",
              "      height: 32px;\n",
              "      padding: 0 0 0 0;\n",
              "      width: 32px;\n",
              "    }\n",
              "\n",
              "    .colab-df-convert:hover {\n",
              "      background-color: #E2EBFA;\n",
              "      box-shadow: 0px 1px 2px rgba(60, 64, 67, 0.3), 0px 1px 3px 1px rgba(60, 64, 67, 0.15);\n",
              "      fill: #174EA6;\n",
              "    }\n",
              "\n",
              "    [theme=dark] .colab-df-convert {\n",
              "      background-color: #3B4455;\n",
              "      fill: #D2E3FC;\n",
              "    }\n",
              "\n",
              "    [theme=dark] .colab-df-convert:hover {\n",
              "      background-color: #434B5C;\n",
              "      box-shadow: 0px 1px 3px 1px rgba(0, 0, 0, 0.15);\n",
              "      filter: drop-shadow(0px 1px 2px rgba(0, 0, 0, 0.3));\n",
              "      fill: #FFFFFF;\n",
              "    }\n",
              "  </style>\n",
              "\n",
              "      <script>\n",
              "        const buttonEl =\n",
              "          document.querySelector('#df-f093a576-c484-493c-936a-516c40513c5b button.colab-df-convert');\n",
              "        buttonEl.style.display =\n",
              "          google.colab.kernel.accessAllowed ? 'block' : 'none';\n",
              "\n",
              "        async function convertToInteractive(key) {\n",
              "          const element = document.querySelector('#df-f093a576-c484-493c-936a-516c40513c5b');\n",
              "          const dataTable =\n",
              "            await google.colab.kernel.invokeFunction('convertToInteractive',\n",
              "                                                     [key], {});\n",
              "          if (!dataTable) return;\n",
              "\n",
              "          const docLinkHtml = 'Like what you see? Visit the ' +\n",
              "            '<a target=\"_blank\" href=https://colab.research.google.com/notebooks/data_table.ipynb>data table notebook</a>'\n",
              "            + ' to learn more about interactive tables.';\n",
              "          element.innerHTML = '';\n",
              "          dataTable['output_type'] = 'display_data';\n",
              "          await google.colab.output.renderOutput(dataTable, element);\n",
              "          const docLink = document.createElement('div');\n",
              "          docLink.innerHTML = docLinkHtml;\n",
              "          element.appendChild(docLink);\n",
              "        }\n",
              "      </script>\n",
              "    </div>\n",
              "  </div>\n",
              "  "
            ]
          },
          "metadata": {},
          "execution_count": 2
        }
      ],
      "source": [
        "df = pd.read_json('https://raw.githubusercontent.com/jaeem006/beduadp/master/Datasets/new_york_times_bestsellers-clean.json')\n",
        "\n",
        "df.head()"
      ]
    },
    {
      "cell_type": "code",
      "execution_count": 5,
      "metadata": {
        "id": "8W0OervyUVxm",
        "outputId": "352420bd-6d0a-46f8-f3aa-fd6c951fa429",
        "colab": {
          "base_uri": "https://localhost:8080/"
        }
      },
      "outputs": [
        {
          "output_type": "execute_result",
          "data": {
            "text/plain": [
              "title\n",
              "10TH ANNIVERSARY            Detective Lindsay Boxer and the Women’s Murder...\n",
              "11TH HOUR                   Detective Lindsay Boxer and the Women’s Murder...\n",
              "1225 CHRISTMAS TREE LANE    Puppies and an ex-husband loom large in the la...\n",
              "1356                        In the fourth book of the Grail Quest series, ...\n",
              "1Q84                        In 1980s Tokyo, a woman who punishes perpetrat...\n",
              "                                                  ...                        \n",
              "Z                           A novel based on the lives of Zelda and F. Sco...\n",
              "ZERO DAY                       A military investigator uncovers a conspiracy.\n",
              "ZERO HISTORY                Several characters from “Spook Country” return...\n",
              "ZONE ONE                      Fighting zombies in post-apocalyptic Manhattan.\n",
              "ZOO                         A young biologist warns world leaders about th...\n",
              "Name: description, Length: 754, dtype: object"
            ]
          },
          "metadata": {},
          "execution_count": 5
        }
      ],
      "source": [
        "grouped_by_title = df.groupby('title')['description'].max()\n",
        "\n",
        "grouped_by_title"
      ]
    },
    {
      "cell_type": "markdown",
      "metadata": {
        "id": "DFyQxCntUVxm"
      },
      "source": [
        "Primero hay que limpiar un poco nuestros textos:"
      ]
    },
    {
      "cell_type": "code",
      "execution_count": 7,
      "metadata": {
        "id": "ghiosxvSUVxm",
        "outputId": "80f7e785-9173-4110-fae5-3b64dc09719f",
        "colab": {
          "base_uri": "https://localhost:8080/"
        }
      },
      "outputs": [
        {
          "output_type": "stream",
          "name": "stderr",
          "text": [
            "/usr/local/lib/python3.7/dist-packages/ipykernel_launcher.py:3: FutureWarning: The default value of regex will change from True to False in a future version.\n",
            "  This is separate from the ipykernel package so we can avoid doing imports until\n",
            "/usr/local/lib/python3.7/dist-packages/ipykernel_launcher.py:4: FutureWarning: The default value of regex will change from True to False in a future version.\n",
            "  after removing the cwd from sys.path.\n",
            "/usr/local/lib/python3.7/dist-packages/ipykernel_launcher.py:5: FutureWarning: The default value of regex will change from True to False in a future version.\n",
            "  \"\"\"\n"
          ]
        },
        {
          "output_type": "execute_result",
          "data": {
            "text/plain": [
              "title\n",
              "10TH ANNIVERSARY            detective lindsay boxer and the womens murder ...\n",
              "11TH HOUR                   detective lindsay boxer and the womens murder ...\n",
              "1225 CHRISTMAS TREE LANE    puppies and an exhusband loom large in the las...\n",
              "1356                        in the fourth book of the grail quest series t...\n",
              "1Q84                        in s tokyo a woman who punishes perpetrators o...\n",
              "                                                  ...                        \n",
              "Z                           a novel based on the lives of zelda and f scot...\n",
              "ZERO DAY                        a military investigator uncovers a conspiracy\n",
              "ZERO HISTORY                several characters from spook country return t...\n",
              "ZONE ONE                        fighting zombies in postapocalyptic manhattan\n",
              "ZOO                         a young biologist warns world leaders about th...\n",
              "Name: description, Length: 754, dtype: object"
            ]
          },
          "metadata": {},
          "execution_count": 7
        }
      ],
      "source": [
        "grouped_by_title = grouped_by_title.str.lower()\n",
        "grouped_by_title = grouped_by_title.str.strip()\n",
        "grouped_by_title = grouped_by_title.str.replace('[^\\w\\s]', '')\n",
        "grouped_by_title = grouped_by_title.str.replace('\\d', '')\n",
        "grouped_by_title = grouped_by_title.str.replace('\\\\n', '')\n",
        "grouped_by_title = grouped_by_title.dropna()\n",
        "\n",
        "grouped_by_title"
      ]
    },
    {
      "cell_type": "markdown",
      "metadata": {
        "id": "LJkqWh7AUVxn"
      },
      "source": [
        "Ahora, vamos a construir un objeto Text con nuestros datos. Primero que nada necesitamos descargar algunas bibliotecas que requiere `nltk` para funcionar."
      ]
    },
    {
      "cell_type": "code",
      "source": [
        "nltk.download('punkt')\n",
        "nltk.download('stopwords')"
      ],
      "metadata": {
        "id": "bOCgQorlU1k8",
        "outputId": "2bf961ae-2e36-4e73-d574-34468476d40a",
        "colab": {
          "base_uri": "https://localhost:8080/"
        }
      },
      "execution_count": 23,
      "outputs": [
        {
          "output_type": "stream",
          "name": "stderr",
          "text": [
            "[nltk_data] Downloading package punkt to /root/nltk_data...\n",
            "[nltk_data]   Package punkt is already up-to-date!\n",
            "[nltk_data] Downloading package stopwords to /root/nltk_data...\n",
            "[nltk_data]   Unzipping corpora/stopwords.zip.\n"
          ]
        },
        {
          "output_type": "execute_result",
          "data": {
            "text/plain": [
              "True"
            ]
          },
          "metadata": {},
          "execution_count": 23
        }
      ]
    },
    {
      "cell_type": "code",
      "execution_count": 9,
      "metadata": {
        "id": "fqmn3yrEUVxn"
      },
      "outputs": [],
      "source": [
        "# Separamos cada oración en palabras\n",
        "\n",
        "tokenized = grouped_by_title.apply(nltk.word_tokenize)"
      ]
    },
    {
      "cell_type": "code",
      "execution_count": 10,
      "metadata": {
        "id": "SyX1BYRAUVxo",
        "outputId": "7833bfb6-b6f1-490a-cce8-5c41912f2624",
        "colab": {
          "base_uri": "https://localhost:8080/"
        }
      },
      "outputs": [
        {
          "output_type": "execute_result",
          "data": {
            "text/plain": [
              "title\n",
              "10TH ANNIVERSARY            [detective, lindsay, boxer, and, the, womens, ...\n",
              "11TH HOUR                   [detective, lindsay, boxer, and, the, womens, ...\n",
              "1225 CHRISTMAS TREE LANE    [puppies, and, an, exhusband, loom, large, in,...\n",
              "1356                        [in, the, fourth, book, of, the, grail, quest,...\n",
              "1Q84                        [in, s, tokyo, a, woman, who, punishes, perpet...\n",
              "                                                  ...                        \n",
              "Z                           [a, novel, based, on, the, lives, of, zelda, a...\n",
              "ZERO DAY                    [a, military, investigator, uncovers, a, consp...\n",
              "ZERO HISTORY                [several, characters, from, spook, country, re...\n",
              "ZONE ONE                    [fighting, zombies, in, postapocalyptic, manha...\n",
              "ZOO                         [a, young, biologist, warns, world, leaders, a...\n",
              "Name: description, Length: 754, dtype: object"
            ]
          },
          "metadata": {},
          "execution_count": 10
        }
      ],
      "source": [
        "tokenized"
      ]
    },
    {
      "cell_type": "code",
      "execution_count": 11,
      "metadata": {
        "id": "BHs2Z1OiUVxo",
        "outputId": "828d8197-1cde-4bc1-f91f-75b21fcd8ef6",
        "colab": {
          "base_uri": "https://localhost:8080/"
        }
      },
      "outputs": [
        {
          "output_type": "execute_result",
          "data": {
            "text/plain": [
              "<Text: detective lindsay boxer and the womens murder club...>"
            ]
          },
          "metadata": {},
          "execution_count": 11
        }
      ],
      "source": [
        "# Sumamos todas las listas para obtener una lista con todas las palabras en nuestro conjunto de datos\n",
        "# Creamos un objeto Text\n",
        "\n",
        "all_words = tokenized.sum()\n",
        "text = nltk.Text(all_words)\n",
        "\n",
        "text"
      ]
    },
    {
      "cell_type": "code",
      "execution_count": 12,
      "metadata": {
        "id": "m-RC56MRUVxo",
        "outputId": "ed1ddda0-d954-421d-93a7-d240a9087ccc",
        "colab": {
          "base_uri": "https://localhost:8080/"
        }
      },
      "outputs": [
        {
          "output_type": "stream",
          "name": "stdout",
          "text": [
            "Displaying 20 of 60 matches:\n",
            " the battle of poitiers in s tokyo a woman who punishes perpetrators of domesti\n",
            "of mishandling an autopsy a pregnant woman shows up in cedar cove on christmas \n",
            "e nothing is as it seems a middleage woman takes a crosscountry road trip with \n",
            "ment a young beautiful and ambitious woman ruthlessly ascends the heights of th\n",
            "ring of humans and heavenly beings a woman in her late s marries the man of her\n",
            "e ichidian universe a smuggler and a woman warrior must fight together to survi\n",
            "paloosa trilogy two lawmen protect a woman one of them loves in frenchs fourth \n",
            "e an arcane society novel a southern woman is forever changed by the betrayals \n",
            "illipss earlier novels reappear as a woman persuades a friend to call off her w\n",
            "plot to kill thousands of citizens a woman asks the boston detective dd warren \n",
            "arker in pursuing a dangerous case a woman joins with her estranged former step\n",
            "texas fbi agent falls in love with a woman with a past lara callandine an exper\n",
            " wealthy connecticut town a divorced woman takes a job as an assistant to a fam\n",
            "eings twentytwo years after a dublin woman stood up her intended groom her aban\n",
            "ikki heat investigates the case of a woman whose body is found in a freezer the\n",
            " crime book of the forerunner saga a woman whose daughter has a dangerous birth\n",
            "the conclusion to her mothers hope a woman haunts the flat shes left to her twi\n",
            "ees with her master to new orleans a woman haunted by the disappearance of her \n",
            " high school principal is murdered a woman looking for a change begins a relati\n",
            "from her exploitive criminal uncle a woman is challenged when her musician husb\n"
          ]
        }
      ],
      "source": [
        "text.concordance('woman', lines=20)"
      ]
    },
    {
      "cell_type": "code",
      "execution_count": 13,
      "metadata": {
        "id": "w2z7bOVZUVxo",
        "outputId": "ee8990f0-fdbb-42c3-f7a8-bb47f4c62e77",
        "colab": {
          "base_uri": "https://localhost:8080/"
        }
      },
      "outputs": [
        {
          "output_type": "stream",
          "name": "stdout",
          "text": [
            "man widow killer series war case doctor yearold friend boy target\n",
            "yacht murder nanny group secret witch massacre mystery family\n"
          ]
        }
      ],
      "source": [
        "# similar te regresa las palabras que aparecen en contextos similares al argumento\n",
        "\n",
        "text.similar('woman')"
      ]
    },
    {
      "cell_type": "code",
      "execution_count": 14,
      "metadata": {
        "id": "SmQpwe4bUVxp",
        "outputId": "ee81cdee-6074-4c74-9ff6-b0c002244954",
        "colab": {
          "base_uri": "https://localhost:8080/"
        }
      },
      "outputs": [
        {
          "output_type": "stream",
          "name": "stdout",
          "text": [
            "murder war love crimes killer battle resent administration eve life\n",
            "recovery night state summer eyes wheel mother daughter author secrets\n"
          ]
        }
      ],
      "source": [
        "text.similar('women')"
      ]
    },
    {
      "cell_type": "code",
      "execution_count": 15,
      "metadata": {
        "id": "3aNRuZx-UVxp",
        "outputId": "7e701d6e-5907-43b3-cbd7-57f16d5a8dfc",
        "colab": {
          "base_uri": "https://localhost:8080/"
        }
      },
      "outputs": [
        {
          "output_type": "stream",
          "name": "stdout",
          "text": [
            "Displaying 20 of 35 matches:\n",
            "ngs a woman in her late s marries the man of her dreams and reaches out to his \n",
            "tar hides his male lover a former hit man for the mob who has become a doctor i\n",
            "y the betrayals of her mother and the man she loves intrigue on the planet safe\n",
            "a in two agents are tracking the same man a human trafficker who is now dealing\n",
            "lorida for a missing girl and the con man who seduced her a runaway girl and th\n",
            "s deployed to iraq a distraught young man discovers that he has grown horns a s\n",
            " empire of charis fights to survive a man who kidnapped a yearold girl contacts\n",
            "and cia stand in his way when a young man finds a bag of diamonds he gets the a\n",
            "stigator maisie dobbs helps an indian man whose sisters murder has been ignored\n",
            "al attacks a woman her daughter and a man accused of murder evade the authoriti\n",
            "ooper becomes involved when a wealthy man assaults a maid in a manhattan hotel \n",
            "d as christmas nears a terminally ill man is preparing his family for his death\n",
            "n involved before the fbi can after a man stumbles in front of the reporter mel\n",
            "er the woman he loved married another man jake fisher discovers that neither sh\n",
            "cheats on his wives sends an innocent man to jail and tries to cash in on anoth\n",
            "ce brennan investigates the case of a man who seems to have died twice jesse st\n",
            "tor eve duncan undertakes a job for a man with dark secrets the first book in a\n",
            "murder at a remote abbey a middleaged man mourning his wifes death is comforted\n",
            "ter their high school romance ended a man and woman who have gone their separat\n",
            "s to see whether they can find love a man changes his life after he reads his o\n"
          ]
        }
      ],
      "source": [
        "text.concordance('man', lines=20)"
      ]
    },
    {
      "cell_type": "code",
      "execution_count": 16,
      "metadata": {
        "id": "eRSCpNrzUVxp",
        "outputId": "d4e39604-cc0f-49b2-c959-64b0250dae00",
        "colab": {
          "base_uri": "https://localhost:8080/"
        }
      },
      "outputs": [
        {
          "output_type": "stream",
          "name": "stdout",
          "text": [
            "killer woman widow murder war mystery case yearold vampire\n",
            "disappearance target murderer yacht priest detective baby series\n",
            "battle administration eve\n"
          ]
        }
      ],
      "source": [
        "text.similar('man')"
      ]
    },
    {
      "cell_type": "code",
      "execution_count": 17,
      "metadata": {
        "id": "oz-FFx_OUVxp",
        "outputId": "5fb6df9e-6028-4595-bc15-580613cd137a",
        "colab": {
          "base_uri": "https://localhost:8080/"
        }
      },
      "outputs": [
        {
          "output_type": "stream",
          "name": "stdout",
          "text": [
            "s french president west truth culprit males governor\n"
          ]
        }
      ],
      "source": [
        "text.similar('men')"
      ]
    },
    {
      "cell_type": "code",
      "execution_count": 18,
      "metadata": {
        "id": "nlJ9K310UVxp",
        "outputId": "76256a3e-0e5e-4fac-808b-1bf97fec43e5",
        "colab": {
          "base_uri": "https://localhost:8080/"
        }
      },
      "outputs": [
        {
          "output_type": "stream",
          "name": "stdout",
          "text": [
            "a_in a_with a_who\n"
          ]
        }
      ],
      "source": [
        "# common_contexts regresa los contextos que comparten dos o más palabras\n",
        "\n",
        "text.common_contexts(['woman', 'man'])"
      ]
    },
    {
      "cell_type": "code",
      "execution_count": 19,
      "metadata": {
        "id": "YzehKZmbUVxp",
        "outputId": "1f08b86d-e581-430f-dda0-7b69c18179d9",
        "colab": {
          "base_uri": "https://localhost:8080/"
        }
      },
      "outputs": [
        {
          "output_type": "execute_result",
          "data": {
            "text/plain": [
              "12569"
            ]
          },
          "metadata": {},
          "execution_count": 19
        }
      ],
      "source": [
        "# Total de palabras\n",
        "\n",
        "len(text)"
      ]
    },
    {
      "cell_type": "code",
      "execution_count": 20,
      "metadata": {
        "id": "axpIXH66UVxq",
        "outputId": "ebb0ea6f-c4d9-466a-dba9-a8b9f7ad62b6",
        "colab": {
          "base_uri": "https://localhost:8080/"
        }
      },
      "outputs": [
        {
          "output_type": "execute_result",
          "data": {
            "text/plain": [
              "3161"
            ]
          },
          "metadata": {},
          "execution_count": 20
        }
      ],
      "source": [
        "# Total de palabras distintas\n",
        "\n",
        "len(set(text))"
      ]
    },
    {
      "cell_type": "code",
      "execution_count": 21,
      "metadata": {
        "id": "eRmJL3SIUVxq",
        "outputId": "9e8e0b4d-ae87-4e16-b705-994ebd07f4bf",
        "colab": {
          "base_uri": "https://localhost:8080/"
        }
      },
      "outputs": [
        {
          "output_type": "execute_result",
          "data": {
            "text/plain": [
              "0.2514917654546901"
            ]
          },
          "metadata": {},
          "execution_count": 21
        }
      ],
      "source": [
        "# Cuantificando la riqueza léxica\n",
        "\n",
        "len(set(text)) / len(text)"
      ]
    },
    {
      "cell_type": "code",
      "execution_count": 24,
      "metadata": {
        "id": "rpf69BSEUVxq",
        "outputId": "319372c4-fdcb-4842-ee48-09a18d801fbe",
        "colab": {
          "base_uri": "https://localhost:8080/"
        }
      },
      "outputs": [
        {
          "output_type": "stream",
          "name": "stdout",
          "text": [
            "new york; serial killer; stone barrington; los angeles; writing\n",
            "pseudonymously; nora roberts; roberts writing; eve dallas; sookie\n",
            "stackhouse; anita blake; dagger brotherhood; doc ford; jason bourne;\n",
            "lacey sherlock; mitch rapp; temperance brennan; forensic sculptor;\n",
            "alex cross; robert ludlums; san francisco\n"
          ]
        }
      ],
      "source": [
        "# Las colocaciones son pares de palabras (bigramas) que son inusualmente comunes en nuestro conjunto de datos\n",
        "\n",
        "text.collocations()"
      ]
    }
  ],
  "metadata": {
    "kernelspec": {
      "display_name": "Python (data_science)",
      "language": "python",
      "name": "data_science"
    },
    "language_info": {
      "codemirror_mode": {
        "name": "ipython",
        "version": 3
      },
      "file_extension": ".py",
      "mimetype": "text/x-python",
      "name": "python",
      "nbconvert_exporter": "python",
      "pygments_lexer": "ipython3",
      "version": "3.8.5"
    },
    "colab": {
      "provenance": []
    }
  },
  "nbformat": 4,
  "nbformat_minor": 0
}