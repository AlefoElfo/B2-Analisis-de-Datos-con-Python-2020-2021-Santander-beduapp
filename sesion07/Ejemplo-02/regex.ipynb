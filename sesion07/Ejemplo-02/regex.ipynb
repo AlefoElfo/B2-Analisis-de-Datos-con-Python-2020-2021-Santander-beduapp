{
  "cells": [
    {
      "cell_type": "markdown",
      "metadata": {
        "id": "fXzENPC5TLCk"
      },
      "source": [
        "## Ejemplo 2: Regex\n",
        "\n",
        "### 1. Objetivos:\n",
        "    - Repasar algunas reglas básicas de las Expresiones Regulares y su aplicación usando pandas\n",
        " \n",
        "---\n",
        "    \n",
        "### 2. Desarrollo:"
      ]
    },
    {
      "cell_type": "markdown",
      "metadata": {
        "id": "FjCfUp2MTLCm"
      },
      "source": [
        "Ya conoces seguramente las Expresiones Regulares. Las expresiones regulares o regex son secuencias de caracteres que definen un patrón de búsqueda. Son una manera de describirle a nuestros programas qué patrones estamos buscando en nuestros datos.\n",
        "\n",
        "Las expresiones regulares resultan sumamente útiles para trabajar con lenguaje natural. Vamos a repasar algunas de las reglas de las regex y a aprender a aplicarlas usando pandas.\n",
        "\n",
        "Para esto utilizaremos el dataset 'new_york_times_bestsellers-clean.json' que contiene datos acerca de libros que han sido seleccionados como bestsellers del New York Times."
      ]
    },
    {
      "cell_type": "code",
      "execution_count": 1,
      "metadata": {
        "id": "xGmzkXX4TLCn"
      },
      "outputs": [],
      "source": [
        "import pandas as pd\n",
        "import re"
      ]
    },
    {
      "cell_type": "code",
      "execution_count": 2,
      "metadata": {
        "id": "b_v9AEmsTLCn",
        "outputId": "901fba83-843d-48fe-ce4f-06f2a59481ff",
        "colab": {
          "base_uri": "https://localhost:8080/",
          "height": 583
        }
      },
      "outputs": [
        {
          "output_type": "execute_result",
          "data": {
            "text/plain": [
              "                                  amazon_product_url  \\\n",
              "0  http://www.amazon.com/The-Host-Novel-Stephenie...   \n",
              "1  http://www.amazon.com/Love-Youre-With-Emily-Gi...   \n",
              "2  http://www.amazon.com/The-Front-Garano-Patrici...   \n",
              "3  http://www.amazon.com/Snuff-Chuck-Palahniuk/dp...   \n",
              "4  http://www.amazon.com/Sundays-at-Tiffanys-Jame...   \n",
              "\n",
              "                                     author  \\\n",
              "0                           Stephenie Meyer   \n",
              "1                              Emily Giffin   \n",
              "2                         Patricia Cornwell   \n",
              "3                           Chuck Palahniuk   \n",
              "4  James Patterson and Gabrielle Charbonnet   \n",
              "\n",
              "                                         description      publisher  \\\n",
              "0  Aliens have taken control of the minds and bod...  Little, Brown   \n",
              "1  A woman's happy marriage is shaken when she en...   St. Martin's   \n",
              "2  A Massachusetts state investigator and his tea...         Putnam   \n",
              "3  An aging porn queens aims to cap her career by...      Doubleday   \n",
              "4                   A woman finds an unexpected love  Little, Brown   \n",
              "\n",
              "                      title                       oid  \\\n",
              "0                  THE HOST  5b4aa4ead3089013507db18c   \n",
              "1  LOVE THE ONE YOU'RE WITH  5b4aa4ead3089013507db18d   \n",
              "2                 THE FRONT  5b4aa4ead3089013507db18e   \n",
              "3                     SNUFF  5b4aa4ead3089013507db18f   \n",
              "4      SUNDAYS AT TIFFANY’S  5b4aa4ead3089013507db190   \n",
              "\n",
              "   bestsellers_date.numberLong  published_date.numberLong  rank.numberInt  \\\n",
              "0                1211587200000              1212883200000               2   \n",
              "1                1211587200000              1212883200000               3   \n",
              "2                1211587200000              1212883200000               4   \n",
              "3                1211587200000              1212883200000               5   \n",
              "4                1211587200000              1212883200000               6   \n",
              "\n",
              "   rank_last_week.numberInt  weeks_on_list.numberInt  price.numberDouble  \n",
              "0                         1                        3               25.99  \n",
              "1                         2                        2               24.95  \n",
              "2                         0                        1               22.95  \n",
              "3                         0                        1               24.95  \n",
              "4                         3                        4               24.99  "
            ],
            "text/html": [
              "\n",
              "  <div id=\"df-cdb3f361-8a7d-4e3b-bb42-b2131bcea2a6\">\n",
              "    <div class=\"colab-df-container\">\n",
              "      <div>\n",
              "<style scoped>\n",
              "    .dataframe tbody tr th:only-of-type {\n",
              "        vertical-align: middle;\n",
              "    }\n",
              "\n",
              "    .dataframe tbody tr th {\n",
              "        vertical-align: top;\n",
              "    }\n",
              "\n",
              "    .dataframe thead th {\n",
              "        text-align: right;\n",
              "    }\n",
              "</style>\n",
              "<table border=\"1\" class=\"dataframe\">\n",
              "  <thead>\n",
              "    <tr style=\"text-align: right;\">\n",
              "      <th></th>\n",
              "      <th>amazon_product_url</th>\n",
              "      <th>author</th>\n",
              "      <th>description</th>\n",
              "      <th>publisher</th>\n",
              "      <th>title</th>\n",
              "      <th>oid</th>\n",
              "      <th>bestsellers_date.numberLong</th>\n",
              "      <th>published_date.numberLong</th>\n",
              "      <th>rank.numberInt</th>\n",
              "      <th>rank_last_week.numberInt</th>\n",
              "      <th>weeks_on_list.numberInt</th>\n",
              "      <th>price.numberDouble</th>\n",
              "    </tr>\n",
              "  </thead>\n",
              "  <tbody>\n",
              "    <tr>\n",
              "      <th>0</th>\n",
              "      <td>http://www.amazon.com/The-Host-Novel-Stephenie...</td>\n",
              "      <td>Stephenie Meyer</td>\n",
              "      <td>Aliens have taken control of the minds and bod...</td>\n",
              "      <td>Little, Brown</td>\n",
              "      <td>THE HOST</td>\n",
              "      <td>5b4aa4ead3089013507db18c</td>\n",
              "      <td>1211587200000</td>\n",
              "      <td>1212883200000</td>\n",
              "      <td>2</td>\n",
              "      <td>1</td>\n",
              "      <td>3</td>\n",
              "      <td>25.99</td>\n",
              "    </tr>\n",
              "    <tr>\n",
              "      <th>1</th>\n",
              "      <td>http://www.amazon.com/Love-Youre-With-Emily-Gi...</td>\n",
              "      <td>Emily Giffin</td>\n",
              "      <td>A woman's happy marriage is shaken when she en...</td>\n",
              "      <td>St. Martin's</td>\n",
              "      <td>LOVE THE ONE YOU'RE WITH</td>\n",
              "      <td>5b4aa4ead3089013507db18d</td>\n",
              "      <td>1211587200000</td>\n",
              "      <td>1212883200000</td>\n",
              "      <td>3</td>\n",
              "      <td>2</td>\n",
              "      <td>2</td>\n",
              "      <td>24.95</td>\n",
              "    </tr>\n",
              "    <tr>\n",
              "      <th>2</th>\n",
              "      <td>http://www.amazon.com/The-Front-Garano-Patrici...</td>\n",
              "      <td>Patricia Cornwell</td>\n",
              "      <td>A Massachusetts state investigator and his tea...</td>\n",
              "      <td>Putnam</td>\n",
              "      <td>THE FRONT</td>\n",
              "      <td>5b4aa4ead3089013507db18e</td>\n",
              "      <td>1211587200000</td>\n",
              "      <td>1212883200000</td>\n",
              "      <td>4</td>\n",
              "      <td>0</td>\n",
              "      <td>1</td>\n",
              "      <td>22.95</td>\n",
              "    </tr>\n",
              "    <tr>\n",
              "      <th>3</th>\n",
              "      <td>http://www.amazon.com/Snuff-Chuck-Palahniuk/dp...</td>\n",
              "      <td>Chuck Palahniuk</td>\n",
              "      <td>An aging porn queens aims to cap her career by...</td>\n",
              "      <td>Doubleday</td>\n",
              "      <td>SNUFF</td>\n",
              "      <td>5b4aa4ead3089013507db18f</td>\n",
              "      <td>1211587200000</td>\n",
              "      <td>1212883200000</td>\n",
              "      <td>5</td>\n",
              "      <td>0</td>\n",
              "      <td>1</td>\n",
              "      <td>24.95</td>\n",
              "    </tr>\n",
              "    <tr>\n",
              "      <th>4</th>\n",
              "      <td>http://www.amazon.com/Sundays-at-Tiffanys-Jame...</td>\n",
              "      <td>James Patterson and Gabrielle Charbonnet</td>\n",
              "      <td>A woman finds an unexpected love</td>\n",
              "      <td>Little, Brown</td>\n",
              "      <td>SUNDAYS AT TIFFANY’S</td>\n",
              "      <td>5b4aa4ead3089013507db190</td>\n",
              "      <td>1211587200000</td>\n",
              "      <td>1212883200000</td>\n",
              "      <td>6</td>\n",
              "      <td>3</td>\n",
              "      <td>4</td>\n",
              "      <td>24.99</td>\n",
              "    </tr>\n",
              "  </tbody>\n",
              "</table>\n",
              "</div>\n",
              "      <button class=\"colab-df-convert\" onclick=\"convertToInteractive('df-cdb3f361-8a7d-4e3b-bb42-b2131bcea2a6')\"\n",
              "              title=\"Convert this dataframe to an interactive table.\"\n",
              "              style=\"display:none;\">\n",
              "        \n",
              "  <svg xmlns=\"http://www.w3.org/2000/svg\" height=\"24px\"viewBox=\"0 0 24 24\"\n",
              "       width=\"24px\">\n",
              "    <path d=\"M0 0h24v24H0V0z\" fill=\"none\"/>\n",
              "    <path d=\"M18.56 5.44l.94 2.06.94-2.06 2.06-.94-2.06-.94-.94-2.06-.94 2.06-2.06.94zm-11 1L8.5 8.5l.94-2.06 2.06-.94-2.06-.94L8.5 2.5l-.94 2.06-2.06.94zm10 10l.94 2.06.94-2.06 2.06-.94-2.06-.94-.94-2.06-.94 2.06-2.06.94z\"/><path d=\"M17.41 7.96l-1.37-1.37c-.4-.4-.92-.59-1.43-.59-.52 0-1.04.2-1.43.59L10.3 9.45l-7.72 7.72c-.78.78-.78 2.05 0 2.83L4 21.41c.39.39.9.59 1.41.59.51 0 1.02-.2 1.41-.59l7.78-7.78 2.81-2.81c.8-.78.8-2.07 0-2.86zM5.41 20L4 18.59l7.72-7.72 1.47 1.35L5.41 20z\"/>\n",
              "  </svg>\n",
              "      </button>\n",
              "      \n",
              "  <style>\n",
              "    .colab-df-container {\n",
              "      display:flex;\n",
              "      flex-wrap:wrap;\n",
              "      gap: 12px;\n",
              "    }\n",
              "\n",
              "    .colab-df-convert {\n",
              "      background-color: #E8F0FE;\n",
              "      border: none;\n",
              "      border-radius: 50%;\n",
              "      cursor: pointer;\n",
              "      display: none;\n",
              "      fill: #1967D2;\n",
              "      height: 32px;\n",
              "      padding: 0 0 0 0;\n",
              "      width: 32px;\n",
              "    }\n",
              "\n",
              "    .colab-df-convert:hover {\n",
              "      background-color: #E2EBFA;\n",
              "      box-shadow: 0px 1px 2px rgba(60, 64, 67, 0.3), 0px 1px 3px 1px rgba(60, 64, 67, 0.15);\n",
              "      fill: #174EA6;\n",
              "    }\n",
              "\n",
              "    [theme=dark] .colab-df-convert {\n",
              "      background-color: #3B4455;\n",
              "      fill: #D2E3FC;\n",
              "    }\n",
              "\n",
              "    [theme=dark] .colab-df-convert:hover {\n",
              "      background-color: #434B5C;\n",
              "      box-shadow: 0px 1px 3px 1px rgba(0, 0, 0, 0.15);\n",
              "      filter: drop-shadow(0px 1px 2px rgba(0, 0, 0, 0.3));\n",
              "      fill: #FFFFFF;\n",
              "    }\n",
              "  </style>\n",
              "\n",
              "      <script>\n",
              "        const buttonEl =\n",
              "          document.querySelector('#df-cdb3f361-8a7d-4e3b-bb42-b2131bcea2a6 button.colab-df-convert');\n",
              "        buttonEl.style.display =\n",
              "          google.colab.kernel.accessAllowed ? 'block' : 'none';\n",
              "\n",
              "        async function convertToInteractive(key) {\n",
              "          const element = document.querySelector('#df-cdb3f361-8a7d-4e3b-bb42-b2131bcea2a6');\n",
              "          const dataTable =\n",
              "            await google.colab.kernel.invokeFunction('convertToInteractive',\n",
              "                                                     [key], {});\n",
              "          if (!dataTable) return;\n",
              "\n",
              "          const docLinkHtml = 'Like what you see? Visit the ' +\n",
              "            '<a target=\"_blank\" href=https://colab.research.google.com/notebooks/data_table.ipynb>data table notebook</a>'\n",
              "            + ' to learn more about interactive tables.';\n",
              "          element.innerHTML = '';\n",
              "          dataTable['output_type'] = 'display_data';\n",
              "          await google.colab.output.renderOutput(dataTable, element);\n",
              "          const docLink = document.createElement('div');\n",
              "          docLink.innerHTML = docLinkHtml;\n",
              "          element.appendChild(docLink);\n",
              "        }\n",
              "      </script>\n",
              "    </div>\n",
              "  </div>\n",
              "  "
            ]
          },
          "metadata": {},
          "execution_count": 2
        }
      ],
      "source": [
        "df = pd.read_json('https://raw.githubusercontent.com/jaeem006/beduadp/master/Datasets/new_york_times_bestsellers-clean.json')\n",
        "\n",
        "df.head()"
      ]
    },
    {
      "cell_type": "code",
      "execution_count": 3,
      "metadata": {
        "id": "JIYGQ_ZTTLCo",
        "outputId": "9e1c62fd-9761-4642-b43c-3bebda39b4a9",
        "colab": {
          "base_uri": "https://localhost:8080/"
        }
      },
      "outputs": [
        {
          "output_type": "execute_result",
          "data": {
            "text/plain": [
              "title\n",
              "10TH ANNIVERSARY            Detective Lindsay Boxer and the Women’s Murder...\n",
              "11TH HOUR                   Detective Lindsay Boxer and the Women’s Murder...\n",
              "1225 CHRISTMAS TREE LANE    Puppies and an ex-husband loom large in the la...\n",
              "1356                        In the fourth book of the Grail Quest series, ...\n",
              "1Q84                        In 1980s Tokyo, a woman who punishes perpetrat...\n",
              "                                                  ...                        \n",
              "Z                           A novel based on the lives of Zelda and F. Sco...\n",
              "ZERO DAY                       A military investigator uncovers a conspiracy.\n",
              "ZERO HISTORY                Several characters from “Spook Country” return...\n",
              "ZONE ONE                      Fighting zombies in post-apocalyptic Manhattan.\n",
              "ZOO                         A young biologist warns world leaders about th...\n",
              "Name: description, Length: 754, dtype: object"
            ]
          },
          "metadata": {},
          "execution_count": 3
        }
      ],
      "source": [
        "grouped_by_title = df.groupby('title')['description'].max()\n",
        "\n",
        "grouped_by_title"
      ]
    },
    {
      "cell_type": "markdown",
      "metadata": {
        "id": "OGPppR58TLCo"
      },
      "source": [
        "Hay varias entradas para los mismos libros, así que los he agrupado por título. En la columna 'description' tenemos descripciones de los libros en nuestro dataset. Resulta un conjunto de datos interesante, puesto que podemos entender qué tipo de libros son los que se convierten en bestsellers del New York Times."
      ]
    },
    {
      "cell_type": "markdown",
      "metadata": {
        "id": "VE0aesjbTLCp"
      },
      "source": [
        "### Patrones de Regex\n",
        "\n",
        "Vamos a utilizar este dataset para repasar algunas maneras de definir patrones usando regex."
      ]
    },
    {
      "cell_type": "code",
      "execution_count": 4,
      "metadata": {
        "id": "WEprK0eLTLCp",
        "outputId": "ff0bf4d4-0a23-4d14-c9f3-1ab619203831",
        "colab": {
          "base_uri": "https://localhost:8080/"
        }
      },
      "outputs": [
        {
          "output_type": "execute_result",
          "data": {
            "text/plain": [
              "title\n",
              "1Q84                      In 1980s Tokyo, a woman who punishes perpetrat...\n",
              "A CEDAR COVE CHRISTMAS    A pregnant woman shows up in Cedar Cove on Chr...\n",
              "A CHANGE IN ALTITUDE      A young woman’s life is transformed by a mount...\n",
              "A TURN IN THE ROAD        A middle-age woman takes a cross-country road ...\n",
              "AN OBJECT OF BEAUTY       A young, beautiful and ambitious woman ruthles...\n",
              "                                                ...                        \n",
              "THIS BODY OF DEATH        Detective Thomas Lynley becomes involved when ...\n",
              "THOSE IN PERIL            A private security agent battles pirates who h...\n",
              "WHAT DOESN'T KILL YOU     A Hong Kong woman who works for the C.I.A. sea...\n",
              "WHERE WE BELONG           A woman’s successful life is disrupted by the ...\n",
              "WHILE MY SISTER SLEEPS    A woman makes discoveries about her sister and...\n",
              "Name: description, Length: 74, dtype: object"
            ]
          },
          "metadata": {},
          "execution_count": 4
        }
      ],
      "source": [
        "# Buscar una palabra en un texto\n",
        "\n",
        "grouped_by_title[grouped_by_title.str.contains('woman', case=False)]"
      ]
    },
    {
      "cell_type": "code",
      "execution_count": 5,
      "metadata": {
        "id": "B9gyRDncTLCp",
        "outputId": "244aed87-b32f-4f60-b673-f78a854b453d",
        "colab": {
          "base_uri": "https://localhost:8080/"
        }
      },
      "outputs": [
        {
          "output_type": "execute_result",
          "data": {
            "text/plain": [
              "title\n",
              "1Q84                          In 1980s Tokyo, a woman who punishes perpetrat...\n",
              "2030                          In 2030, the young resent the elderly for drai...\n",
              "A LESSON IN SECRETS           In the summer of 1932, Maisie Dobbs’s first as...\n",
              "A MEMORY OF LIGHT             The 14th and final novel in the Wheel of Time ...\n",
              "A MERCY                       In 17th-­century America, a slave mother urges...\n",
              "                                                    ...                        \n",
              "WAKING THE WITCH                 Book 11 of the Women of the Otherworld series.\n",
              "WHERE WE BELONG               A woman’s successful life is disrupted by the ...\n",
              "WHERE'D YOU GO, BERNADETTE    A renowned and reclusive Seattle architect dis...\n",
              "WHITE WITCH, BLACK CURSE      A witch who is also a bounty hunter avenges he...\n",
              "WORST CASE                    A New York detective raising 10 children alone...\n",
              "Name: description, Length: 123, dtype: object"
            ]
          },
          "metadata": {},
          "execution_count": 5
        }
      ],
      "source": [
        "# Buscar la aparición de números del 0 al 9\n",
        "\n",
        "grouped_by_title[grouped_by_title.str.contains('[0-9]')]"
      ]
    },
    {
      "cell_type": "code",
      "execution_count": 6,
      "metadata": {
        "id": "Y05Or2l3TLCq",
        "outputId": "4ab14e7d-8bd1-4cd3-dd5f-2911e801b262",
        "colab": {
          "base_uri": "https://localhost:8080/"
        }
      },
      "outputs": [
        {
          "output_type": "execute_result",
          "data": {
            "text/plain": [
              "title\n",
              "1Q84                                        In 1980s Tokyo, a woman who punishes perpetrat...\n",
              "A MEMORY OF LIGHT                           The 14th and final novel in the Wheel of Time ...\n",
              "A MERCY                                     In 17th-­century America, a slave mother urges...\n",
              "A MIGHTY FORTRESS                           Book 4 of the Safehold series, which translate...\n",
              "ANGEL TIME                                  \\nA contract killer goes back to 13th-century ...\n",
              "ANOTHER PIECE OF MY HEART                   A woman in her late 30s marries the man of her...\n",
              "ARCTIC DRIFT                                In his 20th adventure, Dirk Pitt searches for ...\n",
              "BONES ARE FOREVER                           The forensic anthropologist Temperance Brennan...\n",
              "BREAKING POINT                              The 13th novel featuring Joe Pickett, a Wyomin...\n",
              "DAMAGE CONTROL                              An elderly couple’s suicide-by-accident in the...\n",
              "DARK STORM                                  In the 23rd book in the Dark series, the Carpa...\n",
              "DAYS OF GOLD                                In the 18th century, Edilean and a Scottish la...\n",
              "DOWN THE DARKEST ROAD                       The residents of a California town in the mid-...\n",
              "FLIRT                                       Anita Blake, vampire hunter, and the males in ...\n",
              "HARDBALL                                    Searching for an old woman’s missing son, V. I...\n",
              "ISLAND BENEATH THE SEA                      The story of a mulatto slave in late-18th-cent...\n",
              "PIRATE LATITUDES                            In the 17th-century Caribbean, a British pirat...\n",
              "PORT MORTUARY                               In the 18th Kay Scarpetta novel, the forensic ...\n",
              "PRAYERS FOR SALE                            A friendship between two women in a Colorado m...\n",
              "RED MIST                                    The chief medical examiner Kay Scarpetta, dire...\n",
              "RULES OF CIVILITY                           A chance encounter and its consequences provid...\n",
              "SACRÉ BLEU                                  Vincent van Gogh’s friends in the 19th-century...\n",
              "SOUTH OF BROAD                              An unlikely group’s friendship from the ’60s t...\n",
              "STORM PREY                                  Lucas Davenport’s wife is a witness to a botch...\n",
              "STRATEGIC MOVES                             In the 19th Stone Barrington novel, the New Yo...\n",
              "SUMMER RENTAL                               Three friends in their mid-30s spend a month o...\n",
              "TEA TIME FOR THE TRADITIONALLY BUILT        The 10th novel in the No. 1 Ladies’ Detective ...\n",
              "THE BONE BED                                A paleontologist’s disappearance in Canada tur...\n",
              "THE DOUBLE COMFORT SAFARI CLUB              The 11th novel in the No. 1 Ladies’ Detective ...\n",
              "THE HOUSE I LOVED                           A widow defends her house, which is slated to ...\n",
              "THE INTERESTINGS                            Six friends meet in the 1970s at a summer arts...\n",
              "THE LIMPOPO ACADEMY OF PRIVATE DETECTION    The 13th novel in the No. 1 Ladies’ Detective ...\n",
              "THE PIANO TEACHER                           An Englishwoman in 1950s Hong Kong discovers d...\n",
              "THE POSTMISTRESS                            \\n\\nOrdinary life in a Massachusetts small tow...\n",
              "THE PRISONER OF HEAVEN                      In 1950s Barcelona, two friends pursue a  secr...\n",
              "THE ROPE                                    In the 17th Anna Pigeon mystery, Barr returns ...\n",
              "THE SATURDAY BIG TENT WEDDING PARTY         The 12th novel in the No. 1 Ladies’ Detective ...\n",
              "THE SENSE OF AN ENDING                      In this Man Booker Prize-winning novel, an une...\n",
              "THE SHOEMAKER’S WIFE                        Childhood sweethearts in turn-of-the-20th-cent...\n",
              "THE SOUND OF BROKEN GLASS                   Detectives Gemma Jones and her husband, Duncan...\n",
              "THE STORM                                                          The 10th NUMA Files novel.\n",
              "Name: description, dtype: object"
            ]
          },
          "metadata": {},
          "execution_count": 6
        }
      ],
      "source": [
        "# Uno o más números seguidos por una o más letras\n",
        "\n",
        "grouped_by_title[grouped_by_title.str.contains('[0-9]+[a-z]+', case=False)]"
      ]
    },
    {
      "cell_type": "code",
      "execution_count": 7,
      "metadata": {
        "id": "NtspFm5FTLCq",
        "outputId": "ae69dc54-9242-42ca-f217-c21a9cfca189",
        "colab": {
          "base_uri": "https://localhost:8080/"
        }
      },
      "outputs": [
        {
          "output_type": "execute_result",
          "data": {
            "text/plain": [
              "title\n",
              "A MEMORY OF LIGHT                           The 14th and final novel in the Wheel of Time ...\n",
              "A MERCY                                     In 17th-­century America, a slave mother urges...\n",
              "A MIGHTY FORTRESS                           Book 4 of the Safehold series, which translate...\n",
              "ANGEL TIME                                  \\nA contract killer goes back to 13th-century ...\n",
              "ARCTIC DRIFT                                In his 20th adventure, Dirk Pitt searches for ...\n",
              "BONES ARE FOREVER                           The forensic anthropologist Temperance Brennan...\n",
              "BREAKING POINT                              The 13th novel featuring Joe Pickett, a Wyomin...\n",
              "DAMAGE CONTROL                              An elderly couple’s suicide-by-accident in the...\n",
              "DAYS OF GOLD                                In the 18th century, Edilean and a Scottish la...\n",
              "FLIRT                                       Anita Blake, vampire hunter, and the males in ...\n",
              "ISLAND BENEATH THE SEA                      The story of a mulatto slave in late-18th-cent...\n",
              "PIRATE LATITUDES                            In the 17th-century Caribbean, a British pirat...\n",
              "PORT MORTUARY                               In the 18th Kay Scarpetta novel, the forensic ...\n",
              "RED MIST                                    The chief medical examiner Kay Scarpetta, dire...\n",
              "SACRÉ BLEU                                  Vincent van Gogh’s friends in the 19th-century...\n",
              "STORM PREY                                  Lucas Davenport’s wife is a witness to a botch...\n",
              "STRATEGIC MOVES                             In the 19th Stone Barrington novel, the New Yo...\n",
              "TEA TIME FOR THE TRADITIONALLY BUILT        The 10th novel in the No. 1 Ladies’ Detective ...\n",
              "THE BONE BED                                A paleontologist’s disappearance in Canada tur...\n",
              "THE DOUBLE COMFORT SAFARI CLUB              The 11th novel in the No. 1 Ladies’ Detective ...\n",
              "THE LIMPOPO ACADEMY OF PRIVATE DETECTION    The 13th novel in the No. 1 Ladies’ Detective ...\n",
              "THE ROPE                                    In the 17th Anna Pigeon mystery, Barr returns ...\n",
              "THE SATURDAY BIG TENT WEDDING PARTY         The 12th novel in the No. 1 Ladies’ Detective ...\n",
              "THE SHOEMAKER’S WIFE                        Childhood sweethearts in turn-of-the-20th-cent...\n",
              "THE SOUND OF BROKEN GLASS                   Detectives Gemma Jones and her husband, Duncan...\n",
              "THE STORM                                                          The 10th NUMA Files novel.\n",
              "Name: description, dtype: object"
            ]
          },
          "metadata": {},
          "execution_count": 7
        }
      ],
      "source": [
        "# Uno o más números seguidos por las letras 'th'\n",
        "\n",
        "grouped_by_title[grouped_by_title.str.contains('[0-9]th', case=False)]"
      ]
    },
    {
      "cell_type": "code",
      "execution_count": 8,
      "metadata": {
        "id": "sAS0KCTyTLCq",
        "outputId": "3b9cd6bb-3598-46bc-fdd9-78a48f48b217",
        "colab": {
          "base_uri": "https://localhost:8080/"
        }
      },
      "outputs": [
        {
          "output_type": "execute_result",
          "data": {
            "text/plain": [
              "title\n",
              "DON’T BLINK                        After a gruesome murder in a New York steak ho...\n",
              "FATAL ERROR                        After the murder of a cyber-sociopath, Ali Rey...\n",
              "FOUNDERS                           After society collapses, America’s fate is in ...\n",
              "RAPTURE                            After a man stumbles in front of the reporter ...\n",
              "STANDING IN ANOTHER MAN'S GRAVE    After retiring from the Edinburgh police force...\n",
              "THE DOG STARS                      After a flu pandemic kills most of the populat...\n",
              "THE MAGICIANS                      After sorcery college, a young man lives the h...\n",
              "WINTER GARDEN                      After their father’s death, two sisters must c...\n",
              "Name: description, dtype: object"
            ]
          },
          "metadata": {},
          "execution_count": 8
        }
      ],
      "source": [
        "# Textos que comiencen con la palabra 'After'\n",
        "\n",
        "grouped_by_title[grouped_by_title.str.contains('^After', case=False)]"
      ]
    },
    {
      "cell_type": "code",
      "execution_count": 9,
      "metadata": {
        "id": "mPdGIoDkTLCr",
        "outputId": "f2c4d976-3840-4454-c295-64599cfd9e9f",
        "colab": {
          "base_uri": "https://localhost:8080/"
        }
      },
      "outputs": [
        {
          "output_type": "execute_result",
          "data": {
            "text/plain": [
              "title\n",
              "A DEVIL IS WAITING        Sean Dillon helps to foil a plot to assassinat...\n",
              "A WALLFLOWER CHRISTMAS                     Matchmaking in Victorian London.\n",
              "HER FEARFUL SYMMETRY      A woman haunts the flat she’s left to her twin...\n",
              "Name: description, dtype: object"
            ]
          },
          "metadata": {},
          "execution_count": 9
        }
      ],
      "source": [
        "# Textos que terminen con la palabra 'London' y un punto (.)\n",
        "\n",
        "grouped_by_title[grouped_by_title.str.contains('London.$', case=False)]"
      ]
    },
    {
      "cell_type": "code",
      "execution_count": 10,
      "metadata": {
        "id": "JGsrtqxeTLCr",
        "outputId": "78799337-4794-4867-bbe1-6faa4f094038",
        "colab": {
          "base_uri": "https://localhost:8080/"
        }
      },
      "outputs": [
        {
          "output_type": "execute_result",
          "data": {
            "text/plain": [
              "title\n",
              "A DOG’S JOURNEY    In a sequel to “A Dog’s Purpose,” Buddy the do...\n",
              "DARK SUMMER        A veterinarian cares for an injured dog with a...\n",
              "Name: description, dtype: object"
            ]
          },
          "metadata": {},
          "execution_count": 10
        }
      ],
      "source": [
        "# Textos que contengan la palabra 'cat' o 'dog'\n",
        "\n",
        "grouped_by_title[grouped_by_title.str.contains('\\scat\\s|\\sdog\\s', case=False)]"
      ]
    },
    {
      "cell_type": "code",
      "execution_count": 11,
      "metadata": {
        "id": "mS6tJ4rJTLCr",
        "outputId": "ac7cb8cb-bd71-47ec-9324-e01059c62c9e",
        "colab": {
          "base_uri": "https://localhost:8080/"
        }
      },
      "outputs": [
        {
          "output_type": "execute_result",
          "data": {
            "text/plain": [
              "title\n",
              "10TH ANNIVERSARY            Detective Lindsay Boxer and the Women’s Murder...\n",
              "11TH HOUR                   Detective Lindsay Boxer and the Women’s Murder...\n",
              "1225 CHRISTMAS TREE LANE    Puppies and an ex-husband loom large in the la...\n",
              "1Q84                        In 1980s Tokyo, a woman who punishes perpetrat...\n",
              "A CEDAR COVE CHRISTMAS      A pregnant woman shows up in Cedar Cove on Chr...\n",
              "                                                  ...                        \n",
              "WHERE WE BELONG             A woman’s successful life is disrupted by the ...\n",
              "WHILE MY SISTER SLEEPS      A woman makes discoveries about her sister and...\n",
              "WICKED APPETITE             A dangerous man needs Elizabeth Tucker’s help ...\n",
              "ZERO HISTORY                Several characters from “Spook Country” return...\n",
              "ZONE ONE                      Fighting zombies in post-apocalyptic Manhattan.\n",
              "Name: description, Length: 197, dtype: object"
            ]
          },
          "metadata": {},
          "execution_count": 11
        }
      ],
      "source": [
        "# Textos que contengan las palabras 'man' y/o 'woman' en singular y plural\n",
        "\n",
        "grouped_by_title[grouped_by_title.str.contains('wom[ae]n|m[ae]n', case=False)]"
      ]
    },
    {
      "cell_type": "code",
      "execution_count": 13,
      "metadata": {
        "id": "N6tnkXbqTLCs",
        "outputId": "aa96b150-54fa-43db-91ca-c2402fceb51c",
        "colab": {
          "base_uri": "https://localhost:8080/"
        }
      },
      "outputs": [
        {
          "output_type": "stream",
          "name": "stderr",
          "text": [
            "/usr/local/lib/python3.7/dist-packages/ipykernel_launcher.py:3: FutureWarning: The default value of regex will change from True to False in a future version.\n",
            "  This is separate from the ipykernel package so we can avoid doing imports until\n"
          ]
        },
        {
          "output_type": "execute_result",
          "data": {
            "text/plain": [
              "title\n",
              "10TH ANNIVERSARY            Detective Lindsay Boxer and the Women’s Murder...\n",
              "11TH HOUR                   Detective Lindsay Boxer and the Women’s Murder...\n",
              "1225 CHRISTMAS TREE LANE    Puppies and an ex-husband loom large in the la...\n",
              "1356                        In the fourth book of the Grail Quest series, ...\n",
              "1Q84                        In s Tokyo, a woman who punishes perpetrators ...\n",
              "                                                  ...                        \n",
              "Z                           A novel based on the lives of Zelda and F. Sco...\n",
              "ZERO DAY                       A military investigator uncovers a conspiracy.\n",
              "ZERO HISTORY                Several characters from “Spook Country” return...\n",
              "ZONE ONE                      Fighting zombies in post-apocalyptic Manhattan.\n",
              "ZOO                         A young biologist warns world leaders about th...\n",
              "Name: description, Length: 754, dtype: object"
            ]
          },
          "metadata": {},
          "execution_count": 13
        }
      ],
      "source": [
        "# Podemos también reemplazar todos los caracteres numéricos por espacios vacíos\n",
        "\n",
        "grouped_by_title.str.replace('\\d','')"
      ]
    },
    {
      "cell_type": "code",
      "execution_count": null,
      "metadata": {
        "id": "AsmNprt8TLCs"
      },
      "outputs": [],
      "source": []
    }
  ],
  "metadata": {
    "kernelspec": {
      "display_name": "Python (data_science)",
      "language": "python",
      "name": "data_science"
    },
    "language_info": {
      "codemirror_mode": {
        "name": "ipython",
        "version": 3
      },
      "file_extension": ".py",
      "mimetype": "text/x-python",
      "name": "python",
      "nbconvert_exporter": "python",
      "pygments_lexer": "ipython3",
      "version": "3.8.5"
    },
    "colab": {
      "provenance": []
    }
  },
  "nbformat": 4,
  "nbformat_minor": 0
}