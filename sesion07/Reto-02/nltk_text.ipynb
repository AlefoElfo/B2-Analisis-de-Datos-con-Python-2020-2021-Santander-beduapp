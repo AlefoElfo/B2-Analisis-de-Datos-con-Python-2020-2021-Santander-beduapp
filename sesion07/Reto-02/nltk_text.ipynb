{
  "nbformat": 4,
  "nbformat_minor": 0,
  "metadata": {
    "kernelspec": {
      "display_name": "Python 3",
      "language": "python",
      "name": "python3"
    },
    "language_info": {
      "codemirror_mode": {
        "name": "ipython",
        "version": 3
      },
      "file_extension": ".py",
      "mimetype": "text/x-python",
      "name": "python",
      "nbconvert_exporter": "python",
      "pygments_lexer": "ipython3",
      "version": "3.8.5"
    },
    "colab": {
      "name": "nltk_text.ipynb",
      "provenance": []
    }
  },
  "cells": [
    {
      "cell_type": "markdown",
      "metadata": {
        "id": "4hdo_TR07WHH"
      },
      "source": [
        "## Reto 2: Nltk Text\n",
        "\n",
        "### 1. Objetivos:\n",
        "    - Practicar el uso del objeto Text de la librería Nltk\n",
        " \n",
        "---\n",
        "    \n",
        "### 2. Desarrollo:"
      ]
    },
    {
      "cell_type": "markdown",
      "metadata": {
        "id": "BulOnSOh7WHL"
      },
      "source": [
        "Vamos a practicar utilizar el objeto Text de la librería Nltk. Para practicar utilizaremos el conjunto de datos que limpiaste en el Reto anterior. Este conjunto de datos debería de contener todas las evaluaciones registradas en el dataset 'amazon_fine_food_reviews-clean.csv' ya limpias y listas para el análisis.\n",
        "\n",
        "Tu Reto consiste en lo siguiente:\n",
        "\n",
        "1. Aplica el método 'word_tokenize' de nltk para separar todas las evaluaciones por palabras (esto puede tardar un ratito).\n",
        "2. Genera una sola lista con todas las listas que obtuviste en el paso 1 y úsala para crear un objeto `nltk.Text` (esto también puede tardar un ratito, sé paciente).\n",
        "3. Busca las concordancias de las palabras 'boy' y 'girl'.\n",
        "4. Busca las palabras que tengan contextos similares a las palabras 'boy' y 'girl'.\n",
        "5. Busca los contextos que tengan en común las palabras 'boy' y 'girl'.\n",
        "6. Cuantifica la riqueza léxica de tu conjunto de datos\n",
        "7. Sigue tu curiosidad y realiza algunas otras exploraciones por tu cuenta.\n",
        "8. Comenta tus hallazgos con tus compañeros y el experto."
      ]
    },
    {
      "cell_type": "code",
      "metadata": {
        "id": "w1KxUUOQ7WHM"
      },
      "source": [
        ""
      ],
      "execution_count": null,
      "outputs": []
    }
  ]
}